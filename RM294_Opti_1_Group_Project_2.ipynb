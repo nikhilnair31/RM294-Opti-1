{
  "cells": [
    {
      "cell_type": "code",
      "execution_count": null,
      "metadata": {
        "id": "7l7DvBxfzlYe"
      },
      "outputs": [],
      "source": []
    },
    {
      "cell_type": "markdown",
      "metadata": {
        "id": "TAOHPcaK6sDR"
      },
      "source": [
        "## Setup"
      ]
    },
    {
      "cell_type": "code",
      "execution_count": 3,
      "metadata": {
        "colab": {
          "base_uri": "https://localhost:8080/"
        },
        "id": "ePY1tY0H6oDO",
        "outputId": "3d0857ec-822e-4667-c55c-2ea4b195777a"
      },
      "outputs": [
        {
          "name": "stdout",
          "output_type": "stream",
          "text": [
            "Requirement already satisfied: gurobipy in c:\\users\\nikna\\appdata\\local\\programs\\python\\python311\\lib\\site-packages (10.0.3)\n",
            "Requirement already satisfied: numpy in c:\\users\\nikna\\appdata\\local\\programs\\python\\python311\\lib\\site-packages (1.26.0)\n",
            "Requirement already satisfied: pandas in c:\\users\\nikna\\appdata\\local\\programs\\python\\python311\\lib\\site-packages (2.1.0)\n",
            "Collecting seaborn\n",
            "  Obtaining dependency information for seaborn from https://files.pythonhosted.org/packages/7b/e5/83fcd7e9db036c179e0352bfcd20f81d728197a16f883e7b90307a88e65e/seaborn-0.13.0-py3-none-any.whl.metadata\n",
            "  Downloading seaborn-0.13.0-py3-none-any.whl.metadata (5.3 kB)\n",
            "Requirement already satisfied: matplotlib in c:\\users\\nikna\\appdata\\local\\programs\\python\\python311\\lib\\site-packages (3.8.0)\n",
            "Requirement already satisfied: python-dateutil>=2.8.2 in c:\\users\\nikna\\appdata\\local\\programs\\python\\python311\\lib\\site-packages (from pandas) (2.8.2)\n",
            "Requirement already satisfied: pytz>=2020.1 in c:\\users\\nikna\\appdata\\local\\programs\\python\\python311\\lib\\site-packages (from pandas) (2023.3.post1)\n",
            "Requirement already satisfied: tzdata>=2022.1 in c:\\users\\nikna\\appdata\\local\\programs\\python\\python311\\lib\\site-packages (from pandas) (2023.3)\n",
            "Requirement already satisfied: contourpy>=1.0.1 in c:\\users\\nikna\\appdata\\local\\programs\\python\\python311\\lib\\site-packages (from matplotlib) (1.1.1)\n",
            "Requirement already satisfied: cycler>=0.10 in c:\\users\\nikna\\appdata\\local\\programs\\python\\python311\\lib\\site-packages (from matplotlib) (0.11.0)\n",
            "Requirement already satisfied: fonttools>=4.22.0 in c:\\users\\nikna\\appdata\\local\\programs\\python\\python311\\lib\\site-packages (from matplotlib) (4.42.1)\n",
            "Requirement already satisfied: kiwisolver>=1.0.1 in c:\\users\\nikna\\appdata\\local\\programs\\python\\python311\\lib\\site-packages (from matplotlib) (1.4.5)\n",
            "Requirement already satisfied: packaging>=20.0 in c:\\users\\nikna\\appdata\\local\\programs\\python\\python311\\lib\\site-packages (from matplotlib) (23.1)\n",
            "Requirement already satisfied: pillow>=6.2.0 in c:\\users\\nikna\\appdata\\local\\programs\\python\\python311\\lib\\site-packages (from matplotlib) (9.5.0)\n",
            "Requirement already satisfied: pyparsing>=2.3.1 in c:\\users\\nikna\\appdata\\local\\programs\\python\\python311\\lib\\site-packages (from matplotlib) (2.4.7)\n",
            "Requirement already satisfied: six>=1.5 in c:\\users\\nikna\\appdata\\local\\programs\\python\\python311\\lib\\site-packages (from python-dateutil>=2.8.2->pandas) (1.12.0)\n",
            "Downloading seaborn-0.13.0-py3-none-any.whl (294 kB)\n",
            "   ---------------------------------------- 0.0/294.6 kB ? eta -:--:--\n",
            "   ------------------------------------- -- 276.5/294.6 kB 8.6 MB/s eta 0:00:01\n",
            "   -------------------------------------- - 286.7/294.6 kB 5.9 MB/s eta 0:00:01\n",
            "   ---------------------------------------- 294.6/294.6 kB 3.1 MB/s eta 0:00:00\n",
            "Installing collected packages: seaborn\n",
            "Successfully installed seaborn-0.13.0\n"
          ]
        },
        {
          "name": "stderr",
          "output_type": "stream",
          "text": [
            "DEPRECATION: textract 1.6.5 has a non-standard dependency specifier extract-msg<=0.29.*. pip 23.3 will enforce this behaviour change. A possible replacement is to upgrade to a newer version of textract or contact the author to suggest that they release a version with a conforming dependency specifiers. Discussion can be found at https://github.com/pypa/pip/issues/12063\n",
            "\n",
            "[notice] A new release of pip is available: 23.2.1 -> 23.3\n",
            "[notice] To update, run: python.exe -m pip install --upgrade pip\n"
          ]
        }
      ],
      "source": [
        "!pip install gurobipy numpy pandas seaborn matplotlib"
      ]
    },
    {
      "cell_type": "code",
      "execution_count": 4,
      "metadata": {
        "id": "RL7h3lay6q-B"
      },
      "outputs": [],
      "source": [
        "import numpy as np\n",
        "import gurobipy as gp\n",
        "import pandas as pd\n",
        "\n",
        "import seaborn as sns\n",
        "import matplotlib.pyplot as plt"
      ]
    },
    {
      "cell_type": "markdown",
      "metadata": {
        "id": "6n2HKF31M12Z"
      },
      "source": [
        "## Loading the 2019 and 2020 file and initializing variables"
      ]
    },
    {
      "cell_type": "code",
      "execution_count": 5,
      "metadata": {
        "id": "6bukQLXiMtcv"
      },
      "outputs": [
        {
          "name": "stderr",
          "output_type": "stream",
          "text": [
            "C:\\Users\\nikna\\AppData\\Local\\Temp\\ipykernel_21476\\2604927873.py:24: UserWarning: Could not infer format, so each element will be parsed individually, falling back to `dateutil`. To ensure parsing is consistent and as-expected, please specify a format.\n",
            "  df_2020['Date'] = pd.to_datetime(df_2020['Date'])\n"
          ]
        }
      ],
      "source": [
        "#loading the 2019 file\n",
        "df_2019 = pd.read_csv(r'./stocks2019.csv')\n",
        "df_2020 = pd.read_csv(r'./stocks2020.csv')\n",
        "\n",
        "#setting the time limit\n",
        "time = 3600\n",
        "\n",
        "if len(df_2019.columns) - 2 <= 5:\n",
        "    print('Please have more stocks in the data before proceeding ahead!!')\n",
        "\n",
        "#calculating the number of stocks in the data\n",
        "num_stocks = len(df_2019.columns) - 2\n",
        "\n",
        "# creating array for m values\n",
        "m_values = [5,10,20,30,40,50,60,70,80,90,100]\n",
        "m = [x for x in m_values if x <= num_stocks]\n",
        "\n",
        "#renaming the first column to date\n",
        "df_2019.rename(columns = {list(df_2019)[0] : 'Date'}, inplace = True)\n",
        "df_2020.rename(columns = {list(df_2020)[0] : 'Date'}, inplace = True)\n",
        "\n",
        "# Convert the 'Date' column into a datetime object\n",
        "df_2019['Date'] = pd.to_datetime(df_2019['Date'])\n",
        "df_2020['Date'] = pd.to_datetime(df_2020['Date'])\n",
        "\n",
        "# Set 'Date' as the index\n",
        "df_2019.set_index('Date', inplace=True)\n",
        "df_2020.set_index('Date', inplace=True)"
      ]
    },
    {
      "cell_type": "markdown",
      "metadata": {
        "id": "6ELGCio7M7CG"
      },
      "source": [
        "### Calculating the stock return similarity *matrix*"
      ]
    },
    {
      "cell_type": "code",
      "execution_count": 7,
      "metadata": {
        "id": "zLvEsapqM7II"
      },
      "outputs": [],
      "source": [
        "#creating a dataframe containing daily returns of stocks\n",
        "df_2019_returns = df_2019/df_2019.shift(1) - 1\n",
        "\n",
        "#calculating correlation between different stocks and creating the matrix\n",
        "df_corr = df_2019_returns.corr().iloc[1:,1:]"
      ]
    },
    {
      "cell_type": "code",
      "execution_count": 8,
      "metadata": {
        "colab": {
          "base_uri": "https://localhost:8080/",
          "height": 443
        },
        "id": "OP0Z_37rVCxo",
        "outputId": "5283627f-33f0-4b10-e969-fd101b1fc4b0"
      },
      "outputs": [
        {
          "data": {
            "text/html": [
              "<div>\n",
              "<style scoped>\n",
              "    .dataframe tbody tr th:only-of-type {\n",
              "        vertical-align: middle;\n",
              "    }\n",
              "\n",
              "    .dataframe tbody tr th {\n",
              "        vertical-align: top;\n",
              "    }\n",
              "\n",
              "    .dataframe thead th {\n",
              "        text-align: right;\n",
              "    }\n",
              "</style>\n",
              "<table border=\"1\" class=\"dataframe\">\n",
              "  <thead>\n",
              "    <tr style=\"text-align: right;\">\n",
              "      <th></th>\n",
              "      <th>ATVI</th>\n",
              "      <th>ADBE</th>\n",
              "      <th>AMD</th>\n",
              "      <th>ALXN</th>\n",
              "      <th>ALGN</th>\n",
              "      <th>GOOGL</th>\n",
              "      <th>GOOG</th>\n",
              "      <th>AMZN</th>\n",
              "      <th>AMGN</th>\n",
              "      <th>ADI</th>\n",
              "      <th>...</th>\n",
              "      <th>TCOM</th>\n",
              "      <th>ULTA</th>\n",
              "      <th>VRSN</th>\n",
              "      <th>VRSK</th>\n",
              "      <th>VRTX</th>\n",
              "      <th>WBA</th>\n",
              "      <th>WDAY</th>\n",
              "      <th>WDC</th>\n",
              "      <th>XEL</th>\n",
              "      <th>XLNX</th>\n",
              "    </tr>\n",
              "  </thead>\n",
              "  <tbody>\n",
              "    <tr>\n",
              "      <th>ATVI</th>\n",
              "      <td>1.000000</td>\n",
              "      <td>0.399939</td>\n",
              "      <td>0.365376</td>\n",
              "      <td>0.223162</td>\n",
              "      <td>0.216280</td>\n",
              "      <td>0.433097</td>\n",
              "      <td>0.426777</td>\n",
              "      <td>0.467076</td>\n",
              "      <td>0.203956</td>\n",
              "      <td>0.329355</td>\n",
              "      <td>...</td>\n",
              "      <td>0.322906</td>\n",
              "      <td>0.128241</td>\n",
              "      <td>0.464850</td>\n",
              "      <td>0.316549</td>\n",
              "      <td>0.259679</td>\n",
              "      <td>0.218149</td>\n",
              "      <td>0.311659</td>\n",
              "      <td>0.303077</td>\n",
              "      <td>0.043389</td>\n",
              "      <td>0.249667</td>\n",
              "    </tr>\n",
              "    <tr>\n",
              "      <th>ADBE</th>\n",
              "      <td>0.399939</td>\n",
              "      <td>1.000000</td>\n",
              "      <td>0.452848</td>\n",
              "      <td>0.368928</td>\n",
              "      <td>0.363370</td>\n",
              "      <td>0.552125</td>\n",
              "      <td>0.540404</td>\n",
              "      <td>0.598237</td>\n",
              "      <td>0.291978</td>\n",
              "      <td>0.473815</td>\n",
              "      <td>...</td>\n",
              "      <td>0.360392</td>\n",
              "      <td>0.201151</td>\n",
              "      <td>0.711339</td>\n",
              "      <td>0.541243</td>\n",
              "      <td>0.402171</td>\n",
              "      <td>0.228106</td>\n",
              "      <td>0.650430</td>\n",
              "      <td>0.361516</td>\n",
              "      <td>0.207403</td>\n",
              "      <td>0.289497</td>\n",
              "    </tr>\n",
              "    <tr>\n",
              "      <th>AMD</th>\n",
              "      <td>0.365376</td>\n",
              "      <td>0.452848</td>\n",
              "      <td>1.000000</td>\n",
              "      <td>0.301831</td>\n",
              "      <td>0.344252</td>\n",
              "      <td>0.418861</td>\n",
              "      <td>0.417254</td>\n",
              "      <td>0.549302</td>\n",
              "      <td>0.151452</td>\n",
              "      <td>0.503733</td>\n",
              "      <td>...</td>\n",
              "      <td>0.332776</td>\n",
              "      <td>0.210623</td>\n",
              "      <td>0.498342</td>\n",
              "      <td>0.330900</td>\n",
              "      <td>0.272983</td>\n",
              "      <td>0.281950</td>\n",
              "      <td>0.407626</td>\n",
              "      <td>0.438892</td>\n",
              "      <td>0.017283</td>\n",
              "      <td>0.478010</td>\n",
              "    </tr>\n",
              "    <tr>\n",
              "      <th>ALXN</th>\n",
              "      <td>0.223162</td>\n",
              "      <td>0.368928</td>\n",
              "      <td>0.301831</td>\n",
              "      <td>1.000000</td>\n",
              "      <td>0.332433</td>\n",
              "      <td>0.315993</td>\n",
              "      <td>0.307698</td>\n",
              "      <td>0.363170</td>\n",
              "      <td>0.342022</td>\n",
              "      <td>0.317040</td>\n",
              "      <td>...</td>\n",
              "      <td>0.257143</td>\n",
              "      <td>0.408936</td>\n",
              "      <td>0.350581</td>\n",
              "      <td>0.191489</td>\n",
              "      <td>0.522423</td>\n",
              "      <td>0.192720</td>\n",
              "      <td>0.416396</td>\n",
              "      <td>0.289908</td>\n",
              "      <td>0.047947</td>\n",
              "      <td>0.200356</td>\n",
              "    </tr>\n",
              "    <tr>\n",
              "      <th>ALGN</th>\n",
              "      <td>0.216280</td>\n",
              "      <td>0.363370</td>\n",
              "      <td>0.344252</td>\n",
              "      <td>0.332433</td>\n",
              "      <td>1.000000</td>\n",
              "      <td>0.248747</td>\n",
              "      <td>0.250316</td>\n",
              "      <td>0.399281</td>\n",
              "      <td>0.264599</td>\n",
              "      <td>0.328280</td>\n",
              "      <td>...</td>\n",
              "      <td>0.175957</td>\n",
              "      <td>0.128559</td>\n",
              "      <td>0.360886</td>\n",
              "      <td>0.251855</td>\n",
              "      <td>0.334978</td>\n",
              "      <td>0.219595</td>\n",
              "      <td>0.308968</td>\n",
              "      <td>0.284407</td>\n",
              "      <td>0.088059</td>\n",
              "      <td>0.253934</td>\n",
              "    </tr>\n",
              "    <tr>\n",
              "      <th>...</th>\n",
              "      <td>...</td>\n",
              "      <td>...</td>\n",
              "      <td>...</td>\n",
              "      <td>...</td>\n",
              "      <td>...</td>\n",
              "      <td>...</td>\n",
              "      <td>...</td>\n",
              "      <td>...</td>\n",
              "      <td>...</td>\n",
              "      <td>...</td>\n",
              "      <td>...</td>\n",
              "      <td>...</td>\n",
              "      <td>...</td>\n",
              "      <td>...</td>\n",
              "      <td>...</td>\n",
              "      <td>...</td>\n",
              "      <td>...</td>\n",
              "      <td>...</td>\n",
              "      <td>...</td>\n",
              "      <td>...</td>\n",
              "      <td>...</td>\n",
              "    </tr>\n",
              "    <tr>\n",
              "      <th>WBA</th>\n",
              "      <td>0.218149</td>\n",
              "      <td>0.228106</td>\n",
              "      <td>0.281950</td>\n",
              "      <td>0.192720</td>\n",
              "      <td>0.219595</td>\n",
              "      <td>0.232900</td>\n",
              "      <td>0.230603</td>\n",
              "      <td>0.288168</td>\n",
              "      <td>0.194490</td>\n",
              "      <td>0.347861</td>\n",
              "      <td>...</td>\n",
              "      <td>0.257049</td>\n",
              "      <td>0.145330</td>\n",
              "      <td>0.195475</td>\n",
              "      <td>0.126118</td>\n",
              "      <td>0.214585</td>\n",
              "      <td>1.000000</td>\n",
              "      <td>0.211641</td>\n",
              "      <td>0.296309</td>\n",
              "      <td>-0.130798</td>\n",
              "      <td>0.276643</td>\n",
              "    </tr>\n",
              "    <tr>\n",
              "      <th>WDAY</th>\n",
              "      <td>0.311659</td>\n",
              "      <td>0.650430</td>\n",
              "      <td>0.407626</td>\n",
              "      <td>0.416396</td>\n",
              "      <td>0.308968</td>\n",
              "      <td>0.379493</td>\n",
              "      <td>0.371826</td>\n",
              "      <td>0.424748</td>\n",
              "      <td>0.211712</td>\n",
              "      <td>0.351734</td>\n",
              "      <td>...</td>\n",
              "      <td>0.235045</td>\n",
              "      <td>0.269545</td>\n",
              "      <td>0.569672</td>\n",
              "      <td>0.401476</td>\n",
              "      <td>0.376047</td>\n",
              "      <td>0.211641</td>\n",
              "      <td>1.000000</td>\n",
              "      <td>0.315699</td>\n",
              "      <td>0.209240</td>\n",
              "      <td>0.254117</td>\n",
              "    </tr>\n",
              "    <tr>\n",
              "      <th>WDC</th>\n",
              "      <td>0.303077</td>\n",
              "      <td>0.361516</td>\n",
              "      <td>0.438892</td>\n",
              "      <td>0.289908</td>\n",
              "      <td>0.284407</td>\n",
              "      <td>0.328619</td>\n",
              "      <td>0.322110</td>\n",
              "      <td>0.419620</td>\n",
              "      <td>0.172623</td>\n",
              "      <td>0.602935</td>\n",
              "      <td>...</td>\n",
              "      <td>0.377215</td>\n",
              "      <td>0.126463</td>\n",
              "      <td>0.331916</td>\n",
              "      <td>0.308558</td>\n",
              "      <td>0.314773</td>\n",
              "      <td>0.296309</td>\n",
              "      <td>0.315699</td>\n",
              "      <td>1.000000</td>\n",
              "      <td>-0.076115</td>\n",
              "      <td>0.516958</td>\n",
              "    </tr>\n",
              "    <tr>\n",
              "      <th>XEL</th>\n",
              "      <td>0.043389</td>\n",
              "      <td>0.207403</td>\n",
              "      <td>0.017283</td>\n",
              "      <td>0.047947</td>\n",
              "      <td>0.088059</td>\n",
              "      <td>0.059930</td>\n",
              "      <td>0.052570</td>\n",
              "      <td>0.076724</td>\n",
              "      <td>0.137857</td>\n",
              "      <td>-0.047259</td>\n",
              "      <td>...</td>\n",
              "      <td>-0.172752</td>\n",
              "      <td>0.074686</td>\n",
              "      <td>0.280371</td>\n",
              "      <td>0.407770</td>\n",
              "      <td>0.191667</td>\n",
              "      <td>-0.130798</td>\n",
              "      <td>0.209240</td>\n",
              "      <td>-0.076115</td>\n",
              "      <td>1.000000</td>\n",
              "      <td>-0.117552</td>\n",
              "    </tr>\n",
              "    <tr>\n",
              "      <th>XLNX</th>\n",
              "      <td>0.249667</td>\n",
              "      <td>0.289497</td>\n",
              "      <td>0.478010</td>\n",
              "      <td>0.200356</td>\n",
              "      <td>0.253934</td>\n",
              "      <td>0.221983</td>\n",
              "      <td>0.213764</td>\n",
              "      <td>0.389871</td>\n",
              "      <td>0.092808</td>\n",
              "      <td>0.687646</td>\n",
              "      <td>...</td>\n",
              "      <td>0.415079</td>\n",
              "      <td>0.142450</td>\n",
              "      <td>0.352529</td>\n",
              "      <td>0.193846</td>\n",
              "      <td>0.166732</td>\n",
              "      <td>0.276643</td>\n",
              "      <td>0.254117</td>\n",
              "      <td>0.516958</td>\n",
              "      <td>-0.117552</td>\n",
              "      <td>1.000000</td>\n",
              "    </tr>\n",
              "  </tbody>\n",
              "</table>\n",
              "<p>100 rows × 100 columns</p>\n",
              "</div>"
            ],
            "text/plain": [
              "          ATVI      ADBE       AMD      ALXN      ALGN     GOOGL      GOOG  \\\n",
              "ATVI  1.000000  0.399939  0.365376  0.223162  0.216280  0.433097  0.426777   \n",
              "ADBE  0.399939  1.000000  0.452848  0.368928  0.363370  0.552125  0.540404   \n",
              "AMD   0.365376  0.452848  1.000000  0.301831  0.344252  0.418861  0.417254   \n",
              "ALXN  0.223162  0.368928  0.301831  1.000000  0.332433  0.315993  0.307698   \n",
              "ALGN  0.216280  0.363370  0.344252  0.332433  1.000000  0.248747  0.250316   \n",
              "...        ...       ...       ...       ...       ...       ...       ...   \n",
              "WBA   0.218149  0.228106  0.281950  0.192720  0.219595  0.232900  0.230603   \n",
              "WDAY  0.311659  0.650430  0.407626  0.416396  0.308968  0.379493  0.371826   \n",
              "WDC   0.303077  0.361516  0.438892  0.289908  0.284407  0.328619  0.322110   \n",
              "XEL   0.043389  0.207403  0.017283  0.047947  0.088059  0.059930  0.052570   \n",
              "XLNX  0.249667  0.289497  0.478010  0.200356  0.253934  0.221983  0.213764   \n",
              "\n",
              "          AMZN      AMGN       ADI  ...      TCOM      ULTA      VRSN  \\\n",
              "ATVI  0.467076  0.203956  0.329355  ...  0.322906  0.128241  0.464850   \n",
              "ADBE  0.598237  0.291978  0.473815  ...  0.360392  0.201151  0.711339   \n",
              "AMD   0.549302  0.151452  0.503733  ...  0.332776  0.210623  0.498342   \n",
              "ALXN  0.363170  0.342022  0.317040  ...  0.257143  0.408936  0.350581   \n",
              "ALGN  0.399281  0.264599  0.328280  ...  0.175957  0.128559  0.360886   \n",
              "...        ...       ...       ...  ...       ...       ...       ...   \n",
              "WBA   0.288168  0.194490  0.347861  ...  0.257049  0.145330  0.195475   \n",
              "WDAY  0.424748  0.211712  0.351734  ...  0.235045  0.269545  0.569672   \n",
              "WDC   0.419620  0.172623  0.602935  ...  0.377215  0.126463  0.331916   \n",
              "XEL   0.076724  0.137857 -0.047259  ... -0.172752  0.074686  0.280371   \n",
              "XLNX  0.389871  0.092808  0.687646  ...  0.415079  0.142450  0.352529   \n",
              "\n",
              "          VRSK      VRTX       WBA      WDAY       WDC       XEL      XLNX  \n",
              "ATVI  0.316549  0.259679  0.218149  0.311659  0.303077  0.043389  0.249667  \n",
              "ADBE  0.541243  0.402171  0.228106  0.650430  0.361516  0.207403  0.289497  \n",
              "AMD   0.330900  0.272983  0.281950  0.407626  0.438892  0.017283  0.478010  \n",
              "ALXN  0.191489  0.522423  0.192720  0.416396  0.289908  0.047947  0.200356  \n",
              "ALGN  0.251855  0.334978  0.219595  0.308968  0.284407  0.088059  0.253934  \n",
              "...        ...       ...       ...       ...       ...       ...       ...  \n",
              "WBA   0.126118  0.214585  1.000000  0.211641  0.296309 -0.130798  0.276643  \n",
              "WDAY  0.401476  0.376047  0.211641  1.000000  0.315699  0.209240  0.254117  \n",
              "WDC   0.308558  0.314773  0.296309  0.315699  1.000000 -0.076115  0.516958  \n",
              "XEL   0.407770  0.191667 -0.130798  0.209240 -0.076115  1.000000 -0.117552  \n",
              "XLNX  0.193846  0.166732  0.276643  0.254117  0.516958 -0.117552  1.000000  \n",
              "\n",
              "[100 rows x 100 columns]"
            ]
          },
          "execution_count": 8,
          "metadata": {},
          "output_type": "execute_result"
        }
      ],
      "source": [
        "df_corr"
      ]
    },
    {
      "cell_type": "markdown",
      "metadata": {
        "id": "AcGOz0RnK4k-"
      },
      "source": [
        "## 1. Stock Allocation"
      ]
    },
    {
      "cell_type": "markdown",
      "metadata": {
        "id": "dGj6SUB1YUNf"
      },
      "source": [
        "### Stock Selection"
      ]
    },
    {
      "cell_type": "code",
      "execution_count": 19,
      "metadata": {
        "id": "1CSh1nP1dfrf"
      },
      "outputs": [
        {
          "name": "stdout",
          "output_type": "stream",
          "text": [
            "1st Stock: NDX\n",
            "\n",
            "Stock Names: ['ATVI' 'ADBE' 'AMD' 'ALXN' 'ALGN' 'GOOGL' 'GOOG' 'AMZN' 'AMGN' 'ADI'\n",
            " 'ANSS' 'AAPL' 'AMAT' 'ASML' 'ADSK' 'ADP' 'BIDU' 'BIIB' 'BMRN' 'BKNG'\n",
            " 'AVGO' 'CDNS' 'CDW' 'CERN' 'CHTR' 'CHKP' 'CTAS' 'CSCO' 'CTXS' 'CTSH'\n",
            " 'CMCSA' 'CPRT' 'COST' 'CSX' 'DXCM' 'DOCU' 'DLTR' 'EBAY' 'EA' 'EXC' 'EXPE'\n",
            " 'FB' 'FAST' 'FISV' 'GILD' 'IDXX' 'ILMN' 'INCY' 'INTC' 'INTU' 'ISRG' 'JD'\n",
            " 'KLAC' 'KHC' 'LRCX' 'LBTYA' 'LBTYK' 'LULU' 'MAR' 'MXIM' 'MELI' 'MCHP'\n",
            " 'MU' 'MSFT' 'MRNA' 'MDLZ' 'MNST' 'NTES' 'NFLX' 'NVDA' 'NXPI' 'ORLY'\n",
            " 'PCAR' 'PAYX' 'PYPL' 'PEP' 'PDD' 'QCOM' 'REGN' 'ROST' 'SGEN' 'SIRI'\n",
            " 'SWKS' 'SPLK' 'SBUX' 'SNPS' 'TMUS' 'TTWO' 'TSLA' 'TXN' 'TCOM' 'ULTA'\n",
            " 'VRSN' 'VRSK' 'VRTX' 'WBA' 'WDAY' 'WDC' 'XEL' 'XLNX']\n",
            "\n"
          ]
        }
      ],
      "source": [
        "m = 5\n",
        "\n",
        "# Gurobi time limit\n",
        "gurobi_time_limit = 3600\n",
        "\n",
        "index_name = df_2019.columns.values[:1][0]\n",
        "print(f'1st Stock: {index_name}\\n')\n",
        "\n",
        "stock_names = df_2019.columns.values[1:]\n",
        "print(f'Stock Names: {stock_names}\\n')\n",
        "\n",
        "num_stocks = len(stock_names)"
      ]
    },
    {
      "cell_type": "code",
      "execution_count": 10,
      "metadata": {
        "id": "DssOd2oJYUNh"
      },
      "outputs": [
        {
          "name": "stdout",
          "output_type": "stream",
          "text": [
            "Set parameter Username\n",
            "Academic license - for non-commercial use only - expires 2024-10-19\n"
          ]
        }
      ],
      "source": [
        "mod = gp.Model()\n",
        "\n",
        "y = mod.addMVar(num_stocks, vtype=\"B\")\n",
        "x = mod.addMVar((num_stocks, num_stocks), vtype=\"B\")"
      ]
    },
    {
      "cell_type": "code",
      "execution_count": 24,
      "metadata": {
        "id": "cs2dBou0YUNi"
      },
      "outputs": [],
      "source": [
        "# number of stocks in fund constraint\n",
        "size_fund_c = mod.addConstr( gp.quicksum(y[i] for i in range(num_stocks)) == m)\n",
        "\n",
        "# # all stocks represented by single stock constraint\n",
        "stock_incl_c = mod.addConstrs( gp.quicksum( x[i][j] for j in range(num_stocks) ) == 1 for i in range(num_stocks))\n",
        "\n",
        "# each stock represented by a stock on the fund\n",
        "stock_rep_c = mod.addConstrs( x[i][j] <= y[j] for i in range(num_stocks) for j in range(num_stocks))\n",
        "\n",
        "# Set objective value\n",
        "mod.setObjective( gp.quicksum( x[i][j]*df_corr.iloc[i,j] for i in range(num_stocks) for j in range(num_stocks)) , gp.GRB.MAXIMIZE)"
      ]
    },
    {
      "cell_type": "code",
      "execution_count": 25,
      "metadata": {
        "colab": {
          "base_uri": "https://localhost:8080/",
          "height": 245
        },
        "id": "vPo_fzByYUNj",
        "outputId": "c5766746-6f8a-44b4-def5-79faac35e876"
      },
      "outputs": [],
      "source": [
        "mod.Params.output_flag = 0\n",
        "mod.optimize()"
      ]
    },
    {
      "cell_type": "code",
      "execution_count": 26,
      "metadata": {
        "id": "7wLMgfOPYUNl"
      },
      "outputs": [
        {
          "data": {
            "text/plain": [
              "54.83990652229107"
            ]
          },
          "execution_count": 26,
          "metadata": {},
          "output_type": "execute_result"
        }
      ],
      "source": [
        "mod.ObjVal"
      ]
    },
    {
      "cell_type": "code",
      "execution_count": 27,
      "metadata": {
        "id": "eKXSrLS4YUNm",
        "outputId": "f9ea74d2-0cf4-43d1-dd4f-d0925933218c"
      },
      "outputs": [
        {
          "data": {
            "text/plain": [
              "array(['LBTYK', 'MXIM', 'MSFT', 'VRTX', 'XEL'], dtype=object)"
            ]
          },
          "execution_count": 27,
          "metadata": {},
          "output_type": "execute_result"
        }
      ],
      "source": [
        "selection_array = y.X\n",
        "selected_stocks = stock_names[ y.X == 1]\n",
        "selected_stocks"
      ]
    },
    {
      "cell_type": "markdown",
      "metadata": {
        "id": "gz4pOGctYUNn"
      },
      "source": [
        "### Stock Weights"
      ]
    },
    {
      "cell_type": "code",
      "execution_count": 28,
      "metadata": {},
      "outputs": [],
      "source": [
        "num_t = len(df_2019_returns)"
      ]
    },
    {
      "cell_type": "code",
      "execution_count": 31,
      "metadata": {},
      "outputs": [
        {
          "name": "stderr",
          "output_type": "stream",
          "text": [
            "C:\\Users\\nikna\\AppData\\Local\\Temp\\ipykernel_21476\\4253313308.py:8: FutureWarning: Series.__getitem__ treating keys as positions is deprecated. In a future version, integer keys will always be treated as labels (consistent with DataFrame behavior). To access a value by position, use `ser.iloc[pos]`\n",
            "  abs_cons1 = mod_w.addConstrs( y[t] >= df_2019_returns[index_name][t] - gp.quicksum(w[i]*df_2019_returns[selected_stocks[i]][t] for i in range(m) ) for t in range(num_t))\n"
          ]
        },
        {
          "ename": "GurobiError",
          "evalue": "Element 0 of a double array is Nan.",
          "output_type": "error",
          "traceback": [
            "\u001b[1;31m---------------------------------------------------------------------------\u001b[0m",
            "\u001b[1;31mGurobiError\u001b[0m                               Traceback (most recent call last)",
            "\u001b[1;32mc:\\X\\Dev\\PythonProjects\\O1 GP2\\RM294_Opti_1_Group_Project_2.ipynb Cell 20\u001b[0m line \u001b[0;36m8\n\u001b[0;32m      <a href='vscode-notebook-cell:/c%3A/X/Dev/PythonProjects/O1%20GP2/RM294_Opti_1_Group_Project_2.ipynb#X25sZmlsZQ%3D%3D?line=5'>6</a>\u001b[0m w_cons \u001b[39m=\u001b[39m mod_w\u001b[39m.\u001b[39maddConstr( gp\u001b[39m.\u001b[39mquicksum(w[i] \u001b[39mfor\u001b[39;00m i \u001b[39min\u001b[39;00m \u001b[39mrange\u001b[39m(m)) \u001b[39m==\u001b[39m \u001b[39m1\u001b[39m)\n\u001b[0;32m      <a href='vscode-notebook-cell:/c%3A/X/Dev/PythonProjects/O1%20GP2/RM294_Opti_1_Group_Project_2.ipynb#X25sZmlsZQ%3D%3D?line=6'>7</a>\u001b[0m \u001b[39m# Absolute value constraints\u001b[39;00m\n\u001b[1;32m----> <a href='vscode-notebook-cell:/c%3A/X/Dev/PythonProjects/O1%20GP2/RM294_Opti_1_Group_Project_2.ipynb#X25sZmlsZQ%3D%3D?line=7'>8</a>\u001b[0m abs_cons1 \u001b[39m=\u001b[39m mod_w\u001b[39m.\u001b[39;49maddConstrs( y[t] \u001b[39m>\u001b[39;49m\u001b[39m=\u001b[39;49m df_2019_returns[index_name][t] \u001b[39m-\u001b[39;49m gp\u001b[39m.\u001b[39;49mquicksum(w[i]\u001b[39m*\u001b[39;49mdf_2019_returns[selected_stocks[i]][t] \u001b[39mfor\u001b[39;49;00m i \u001b[39min\u001b[39;49;00m \u001b[39mrange\u001b[39;49m(m) ) \u001b[39mfor\u001b[39;49;00m t \u001b[39min\u001b[39;49;00m \u001b[39mrange\u001b[39;49m(num_t))\n\u001b[0;32m      <a href='vscode-notebook-cell:/c%3A/X/Dev/PythonProjects/O1%20GP2/RM294_Opti_1_Group_Project_2.ipynb#X25sZmlsZQ%3D%3D?line=8'>9</a>\u001b[0m abs_cons2 \u001b[39m=\u001b[39m mod_w\u001b[39m.\u001b[39maddConstrs( y[t] \u001b[39m>\u001b[39m\u001b[39m=\u001b[39m gp\u001b[39m.\u001b[39mquicksum(w[i]\u001b[39m*\u001b[39mdf_2019_returns[selected_stocks[i]][t] \u001b[39mfor\u001b[39;00m i \u001b[39min\u001b[39;00m \u001b[39mrange\u001b[39m(m) ) \u001b[39m-\u001b[39m df_2019_returns[index_name][t] \u001b[39mfor\u001b[39;00m t \u001b[39min\u001b[39;00m \u001b[39mrange\u001b[39m(num_t))\n\u001b[0;32m     <a href='vscode-notebook-cell:/c%3A/X/Dev/PythonProjects/O1%20GP2/RM294_Opti_1_Group_Project_2.ipynb#X25sZmlsZQ%3D%3D?line=10'>11</a>\u001b[0m mod_w\u001b[39m.\u001b[39msetObjective( gp\u001b[39m.\u001b[39mquicksum(y[t] \u001b[39mfor\u001b[39;00m t \u001b[39min\u001b[39;00m \u001b[39mrange\u001b[39m(num_t)) )\n",
            "File \u001b[1;32msrc\\gurobipy\\model.pxi:3720\u001b[0m, in \u001b[0;36mgurobipy.Model.addConstrs\u001b[1;34m()\u001b[0m\n",
            "File \u001b[1;32msrc\\gurobipy\\model.pxi:3561\u001b[0m, in \u001b[0;36mgurobipy.Model.addConstr\u001b[1;34m()\u001b[0m\n",
            "File \u001b[1;32msrc\\gurobipy\\model.pxi:3464\u001b[0m, in \u001b[0;36mgurobipy.Model._addNDConstr\u001b[1;34m()\u001b[0m\n",
            "File \u001b[1;32msrc\\gurobipy\\model.pxi:3849\u001b[0m, in \u001b[0;36mgurobipy.Model.addMConstr\u001b[1;34m()\u001b[0m\n",
            "\u001b[1;31mGurobiError\u001b[0m: Element 0 of a double array is Nan."
          ]
        }
      ],
      "source": [
        "mod_w = gp.Model()\n",
        "w = mod_w.addMVar(m)\n",
        "y = mod_w.addMVar(num_t)\n",
        "\n",
        "# Add of weigths of selected stocks equal to 1\n",
        "w_cons = mod_w.addConstr( gp.quicksum(w[i] for i in range(m)) == 1)\n",
        "# Absolute value constraints\n",
        "abs_cons1 = mod_w.addConstrs( y[t] >= df_2019_returns[index_name][t] - gp.quicksum(w[i]*df_2019_returns[selected_stocks[i]][t] for i in range(m) ) for t in range(num_t))\n",
        "abs_cons2 = mod_w.addConstrs( y[t] >= gp.quicksum(w[i]*df_2019_returns[selected_stocks[i]][t] for i in range(m) ) - df_2019_returns[index_name][t] for t in range(num_t))\n",
        "\n",
        "mod_w.setObjective( gp.quicksum(y[t] for t in range(num_t)) )\n",
        "mod_w.Params.output_flag = 0\n",
        "mod_w.optimize()"
      ]
    },
    {
      "cell_type": "code",
      "execution_count": 30,
      "metadata": {},
      "outputs": [
        {
          "ename": "GurobiError",
          "evalue": "Index 0 out of range for attribute 'X'",
          "output_type": "error",
          "traceback": [
            "\u001b[1;31m---------------------------------------------------------------------------\u001b[0m",
            "\u001b[1;31mGurobiError\u001b[0m                               Traceback (most recent call last)",
            "\u001b[1;32mc:\\X\\Dev\\PythonProjects\\O1 GP2\\RM294_Opti_1_Group_Project_2.ipynb Cell 21\u001b[0m line \u001b[0;36m1\n\u001b[1;32m----> <a href='vscode-notebook-cell:/c%3A/X/Dev/PythonProjects/O1%20GP2/RM294_Opti_1_Group_Project_2.ipynb#X30sZmlsZQ%3D%3D?line=0'>1</a>\u001b[0m stock_weights \u001b[39m=\u001b[39m w\u001b[39m.\u001b[39;49mX\n\u001b[0;32m      <a href='vscode-notebook-cell:/c%3A/X/Dev/PythonProjects/O1%20GP2/RM294_Opti_1_Group_Project_2.ipynb#X30sZmlsZQ%3D%3D?line=1'>2</a>\u001b[0m stock_weights\n",
            "File \u001b[1;32msrc\\gurobipy\\mvar.pxi:296\u001b[0m, in \u001b[0;36mgurobipy.MVar.__getattr__\u001b[1;34m()\u001b[0m\n",
            "File \u001b[1;32msrc\\gurobipy\\mvar.pxi:559\u001b[0m, in \u001b[0;36mgurobipy.MVar.getAttr\u001b[1;34m()\u001b[0m\n",
            "File \u001b[1;32msrc\\gurobipy\\attrutil.pxi:148\u001b[0m, in \u001b[0;36mgurobipy.__gettypedattrlist\u001b[1;34m()\u001b[0m\n",
            "\u001b[1;31mGurobiError\u001b[0m: Index 0 out of range for attribute 'X'"
          ]
        }
      ],
      "source": [
        "stock_weights = w.X\n",
        "stock_weights"
      ]
    },
    {
      "cell_type": "code",
      "execution_count": null,
      "metadata": {},
      "outputs": [],
      "source": []
    }
  ],
  "metadata": {
    "colab": {
      "provenance": [],
      "toc_visible": true
    },
    "kernelspec": {
      "display_name": "Python 3",
      "name": "python3"
    },
    "language_info": {
      "codemirror_mode": {
        "name": "ipython",
        "version": 3
      },
      "file_extension": ".py",
      "mimetype": "text/x-python",
      "name": "python",
      "nbconvert_exporter": "python",
      "pygments_lexer": "ipython3",
      "version": "3.11.5"
    }
  },
  "nbformat": 4,
  "nbformat_minor": 0
}
