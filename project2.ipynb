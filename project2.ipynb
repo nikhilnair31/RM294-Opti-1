{
 "cells": [
  {
   "cell_type": "code",
   "execution_count": 2,
   "metadata": {},
   "outputs": [],
   "source": [
    "import numpy as np\n",
    "import gurobipy as gp\n",
    "import pandas as pd"
   ]
  },
  {
   "cell_type": "markdown",
   "metadata": {},
   "source": [
    "## Picking 5 stocks and measuring their performance"
   ]
  },
  {
   "cell_type": "markdown",
   "metadata": {},
   "source": [
    "#### Data Loading and Preprocessing"
   ]
  },
  {
   "cell_type": "code",
   "execution_count": 3,
   "metadata": {},
   "outputs": [],
   "source": [
    "stock19 = pd.read_csv('stocks2019.csv')\n",
    "stock20 = pd.read_csv('stocks2020.csv')\n",
    "\n",
    "stock19_noIDX = stock19.iloc[:,2:].pct_change().dropna()\n",
    "stock20_noIDX = stock20.iloc[:,2:].pct_change().dropna()\n",
    "\n",
    "stock19_index = stock19.iloc[:,1].pct_change().dropna()\n",
    "stock20_index = stock20.iloc[:,1].pct_change().dropna()\n",
    "\n"
   ]
  },
  {
   "cell_type": "markdown",
   "metadata": {},
   "source": [
    "Insights on why we're taking pct_change"
   ]
  },
  {
   "cell_type": "code",
   "execution_count": 4,
   "metadata": {},
   "outputs": [],
   "source": [
    "# number of stocks in index\n",
    "\n",
    "n = stock19.shape[1] - 2"
   ]
  },
  {
   "cell_type": "code",
   "execution_count": 5,
   "metadata": {},
   "outputs": [],
   "source": [
    "stock19_noIDX = stock19.iloc[:,2:].pct_change().dropna()\n",
    "corr_mat = stock19_noIDX.corr()\n",
    "p = corr_mat.values"
   ]
  },
  {
   "cell_type": "code",
   "execution_count": 6,
   "metadata": {},
   "outputs": [],
   "source": [
    "m=5 # number of stocks in the portfolio"
   ]
  },
  {
   "cell_type": "code",
   "execution_count": 7,
   "metadata": {},
   "outputs": [
    {
     "name": "stdout",
     "output_type": "stream",
     "text": [
      "Set parameter Username\n",
      "Academic license - for non-commercial use only - expires 2024-08-22\n"
     ]
    }
   ],
   "source": [
    "stockmod = gp.Model()\n",
    "stockmodX = stockmod.addMVar((n,n),vtype = 'B')\n",
    "stockmodY = stockmod.addMVar(n,vtype = 'B')"
   ]
  },
  {
   "cell_type": "code",
   "execution_count": 8,
   "metadata": {},
   "outputs": [],
   "source": [
    "stockmod.setObjective(gp.quicksum(p[i][j]*stockmodX[i][j] for i in range(n) for j in range(n)),gp.GRB.MAXIMIZE)"
   ]
  },
  {
   "cell_type": "code",
   "execution_count": 9,
   "metadata": {},
   "outputs": [],
   "source": [
    "constr1 = stockmod.addConstr(gp.quicksum(stockmodY[i] for i in range(n)) == m)\n",
    "constr2 = stockmod.addConstrs((gp.quicksum(stockmodX[i][j] for j in range(n)) == 1) for i in range(n))\n",
    "constr3 = stockmod.addConstrs((stockmodX[i][j] <= stockmodY[j]) for i in range(n) for j in range(n))"
   ]
  },
  {
   "cell_type": "code",
   "execution_count": 10,
   "metadata": {},
   "outputs": [],
   "source": [
    "stockmod.Params.OutputFlag = 0 # tell gurobi to shut up!!\n",
    "stockmod.optimize()"
   ]
  },
  {
   "cell_type": "code",
   "execution_count": 11,
   "metadata": {},
   "outputs": [
    {
     "name": "stdout",
     "output_type": "stream",
     "text": [
      "The stocks we chose are ['LBTYK', 'MXIM', 'MSFT', 'VRTX', 'XEL']\n"
     ]
    }
   ],
   "source": [
    "selected_stocks = [corr_mat.columns[j] for j in range(n) if stockmodY[j].X == 1]\n",
    "\n",
    "print(f'The stocks we chose are {selected_stocks}')"
   ]
  },
  {
   "cell_type": "markdown",
   "metadata": {},
   "source": [
    "#### Calculating weights for the selected stocks"
   ]
  },
  {
   "cell_type": "code",
   "execution_count": 12,
   "metadata": {},
   "outputs": [],
   "source": [
    "index_rt = stock19_index.values\n",
    "t = stock19_noIDX.shape[0]"
   ]
  },
  {
   "cell_type": "code",
   "execution_count": 13,
   "metadata": {},
   "outputs": [],
   "source": [
    "rt_df = stock19_noIDX.iloc[:,list(np.where(stockmodY.x)[0])]\n",
    "rt = rt_df.values"
   ]
  },
  {
   "cell_type": "code",
   "execution_count": 14,
   "metadata": {},
   "outputs": [],
   "source": [
    "wmod = gp.Model()\n",
    "wmodX = wmod.addMVar(m,vtype='C',lb=0)\n",
    "wmodY = wmod.addMVar(t,vtype='C')"
   ]
  },
  {
   "cell_type": "code",
   "execution_count": 15,
   "metadata": {},
   "outputs": [],
   "source": [
    "wmod.setObjective(gp.quicksum(wmodY[i] for i in range(t)))"
   ]
  },
  {
   "cell_type": "code",
   "execution_count": 16,
   "metadata": {},
   "outputs": [],
   "source": [
    "constr1 = wmod.addConstr(gp.quicksum(wmodX[i] for i in range(m)) == 1)\n",
    "constr2 = wmod.addConstrs((wmodY[i] >= (index_rt[i] - gp.quicksum(wmodX[j]*rt[i][j] for j in range(m)))) for i in range(t))\n",
    "constr3 = wmod.addConstrs((wmodY[i] >= -1*(index_rt[i] - gp.quicksum(wmodX[j]*rt[i][j] for j in range(m)))) for i in range(t))"
   ]
  },
  {
   "cell_type": "code",
   "execution_count": 17,
   "metadata": {},
   "outputs": [],
   "source": [
    "wmod.Params.OutputFlag = 0 # tell gurobi to shut up!!\n",
    "wmod.optimize()"
   ]
  },
  {
   "cell_type": "code",
   "execution_count": 18,
   "metadata": {},
   "outputs": [
    {
     "name": "stdout",
     "output_type": "stream",
     "text": [
      "Error of our portfolio is : 0.7891782824631473\n"
     ]
    }
   ],
   "source": [
    "print(\"Error of our portfolio is :\",wmod.ObjVal)"
   ]
  },
  {
   "cell_type": "code",
   "execution_count": 19,
   "metadata": {},
   "outputs": [
    {
     "name": "stdout",
     "output_type": "stream",
     "text": [
      "The weight for LBTYK is 0.04886174835252491\n",
      "The weight for MXIM is 0.21038806005665553\n",
      "The weight for MSFT is 0.5803519807862964\n",
      "The weight for VRTX is 0.07119021516911037\n",
      "The weight for XEL is 0.08920799563541283\n"
     ]
    }
   ],
   "source": [
    "for i in range(m):\n",
    "    print(f'The weight for {rt_df.columns[i]} is {wmodX[i].X}')"
   ]
  },
  {
   "cell_type": "markdown",
   "metadata": {},
   "source": [
    "#### Tracking our portfolio with 2020 index returns"
   ]
  },
  {
   "cell_type": "code",
   "execution_count": 20,
   "metadata": {},
   "outputs": [
    {
     "name": "stdout",
     "output_type": "stream",
     "text": [
      "Error would be 1.1124373455076468\n"
     ]
    }
   ],
   "source": [
    "return_set = stock20_noIDX[selected_stocks]\n",
    "index_return = stock20_index\n",
    "T = len(return_set)\n",
    "total = 0\n",
    "for t in range(T):\n",
    "    total += abs(index_return.iloc[t] - sum(wmodX[i].X * return_set.iloc[t,i] for i in range(m)))\n",
    "\n",
    "print(f'Error would be {total}')"
   ]
  },
  {
   "cell_type": "markdown",
   "metadata": {},
   "source": [
    "## Q3"
   ]
  },
  {
   "cell_type": "code",
   "execution_count": null,
   "metadata": {},
   "outputs": [],
   "source": []
  },
  {
   "cell_type": "code",
   "execution_count": null,
   "metadata": {},
   "outputs": [],
   "source": []
  },
  {
   "cell_type": "code",
   "execution_count": null,
   "metadata": {},
   "outputs": [],
   "source": []
  },
  {
   "cell_type": "markdown",
   "metadata": {},
   "source": [
    "## Q4"
   ]
  },
  {
   "cell_type": "code",
   "execution_count": 22,
   "metadata": {},
   "outputs": [],
   "source": [
    "error_2019 = []\n",
    "error_2020 = []\n",
    "t_time = 3600\n",
    "M = 2 #however, smallest big M could be >1 because weights cannot be more than 1\n",
    "t = stock19_noIDX.shape[0]\n",
    "rt = stock19_noIDX.values\n",
    "results = pd.DataFrame(columns=['m', 'selected_stocks', 'weights', 'error_2019','error_2020'])\n",
    "\n",
    "m_list = [i for i in range(10, 101, 10)]\n",
    "\n",
    "for m in m_list:\n",
    "    wmod = gp.Model()\n",
    "    wmodX = wmod.addMVar(n,vtype='C',lb=0)\n",
    "    wmodO = wmod.addMVar(t,vtype='C')\n",
    "    wmodY = wmod.addMVar(n,vtype='B')\n",
    "\n",
    "\n",
    "    wmod.setObjective(gp.quicksum(wmodO[i] for i in range(t)))\n",
    "\n",
    "    constr1 = wmod.addConstr(gp.quicksum(wmodX[i] for i in range(n)) == 1)\n",
    "    constr2 = wmod.addConstrs((wmodO[i] >= (index_rt[i] - gp.quicksum(wmodX[j]*rt[i][j] for j in range(n)))) for i in range(t))\n",
    "    constr3 = wmod.addConstrs((wmodO[i] >= -1*(index_rt[i] - gp.quicksum(wmodX[j]*rt[i][j] for j in range(n)))) for i in range(t))\n",
    "    constr4 = wmod.addConstrs((wmodX[i] <= M*wmodY[i]) for i in range(n))\n",
    "    constr5 = wmod.addConstr(gp.quicksum(wmodY[i] for i in range(n)) == m)\n",
    "\n",
    "    wmod.Params.OutputFlag = 0 # tell gurobi to shut up!!\n",
    "    wmod.setParam('TimeLimit', t_time) # Stopping gurobi after 1 hour\n",
    "    wmod.optimize()\n",
    "\n",
    "    weights = [wmodX[i].X for i in range(n) if wmodY[i].X == 1]\n",
    "    error_2019 = wmod.ObjVal\n",
    "\n",
    "    selected_stocks = [corr_mat.columns[j] for j in range(n) if wmodY[j].X == 1]\n",
    "\n",
    "    return_set = stock20_noIDX\n",
    "    index_return = stock20_index\n",
    "    T = len(return_set)\n",
    "    total = 0\n",
    "    for t in range(T):\n",
    "        total += abs(index_return.iloc[t] - sum(wmodX[i].X * return_set.iloc[t,i] for i in range(n)))\n",
    "\n",
    "    error_2020 = total\n",
    "\n",
    "    new_row = {'m': m, 'selected_stocks': selected_stocks, 'weights': weights, 'error_2019': error_2019, 'error_2020': error_2020}\n",
    "    results.loc[len(results)] = new_row\n",
    "\n",
    "results.to_csv('result_5.csv', index=False)\n"
   ]
  },
  {
   "cell_type": "code",
   "execution_count": null,
   "metadata": {},
   "outputs": [],
   "source": []
  }
 ],
 "metadata": {
  "kernelspec": {
   "display_name": "base",
   "language": "python",
   "name": "python3"
  },
  "language_info": {
   "codemirror_mode": {
    "name": "ipython",
    "version": 3
   },
   "file_extension": ".py",
   "mimetype": "text/x-python",
   "name": "python",
   "nbconvert_exporter": "python",
   "pygments_lexer": "ipython3",
   "version": "3.10.9"
  }
 },
 "nbformat": 4,
 "nbformat_minor": 2
}
