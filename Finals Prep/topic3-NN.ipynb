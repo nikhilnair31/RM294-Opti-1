{
 "cells": [
  {
   "cell_type": "code",
   "execution_count": 1,
   "id": "4ec8e924",
   "metadata": {},
   "outputs": [
    {
     "ename": "ModuleNotFoundError",
     "evalue": "No module named 'tensorflow'",
     "output_type": "error",
     "traceback": [
      "\u001b[1;31m---------------------------------------------------------------------------\u001b[0m",
      "\u001b[1;31mModuleNotFoundError\u001b[0m                       Traceback (most recent call last)",
      "\u001b[1;32mc:\\X\\Dev\\PythonProjects\\RM294 Opti 1\\Finals Prep\\topic3-NN.ipynb Cell 1\u001b[0m line \u001b[0;36m3\n\u001b[0;32m      <a href='vscode-notebook-cell:/c%3A/X/Dev/PythonProjects/RM294%20Opti%201/Finals%20Prep/topic3-NN.ipynb#W0sZmlsZQ%3D%3D?line=0'>1</a>\u001b[0m \u001b[39mimport\u001b[39;00m \u001b[39mnumpy\u001b[39;00m \u001b[39mas\u001b[39;00m \u001b[39mnp\u001b[39;00m\n\u001b[0;32m      <a href='vscode-notebook-cell:/c%3A/X/Dev/PythonProjects/RM294%20Opti%201/Finals%20Prep/topic3-NN.ipynb#W0sZmlsZQ%3D%3D?line=1'>2</a>\u001b[0m \u001b[39mimport\u001b[39;00m \u001b[39mpandas\u001b[39;00m \u001b[39mas\u001b[39;00m \u001b[39mpd\u001b[39;00m\n\u001b[1;32m----> <a href='vscode-notebook-cell:/c%3A/X/Dev/PythonProjects/RM294%20Opti%201/Finals%20Prep/topic3-NN.ipynb#W0sZmlsZQ%3D%3D?line=2'>3</a>\u001b[0m \u001b[39mimport\u001b[39;00m \u001b[39mtensorflow\u001b[39;00m \u001b[39mas\u001b[39;00m \u001b[39mtf\u001b[39;00m\n\u001b[0;32m      <a href='vscode-notebook-cell:/c%3A/X/Dev/PythonProjects/RM294%20Opti%201/Finals%20Prep/topic3-NN.ipynb#W0sZmlsZQ%3D%3D?line=4'>5</a>\u001b[0m \u001b[39mimport\u001b[39;00m \u001b[39mseaborn\u001b[39;00m \u001b[39mas\u001b[39;00m \u001b[39msns\u001b[39;00m   \u001b[39m# Why sns?  It's a reference to The West Wing\u001b[39;00m\n\u001b[0;32m      <a href='vscode-notebook-cell:/c%3A/X/Dev/PythonProjects/RM294%20Opti%201/Finals%20Prep/topic3-NN.ipynb#W0sZmlsZQ%3D%3D?line=5'>6</a>\u001b[0m \u001b[39mimport\u001b[39;00m \u001b[39mmatplotlib\u001b[39;00m\u001b[39m.\u001b[39;00m\u001b[39mpyplot\u001b[39;00m \u001b[39mas\u001b[39;00m \u001b[39mplt\u001b[39;00m  \u001b[39m# seaborn is based on matplotlib\u001b[39;00m\n",
      "\u001b[1;31mModuleNotFoundError\u001b[0m: No module named 'tensorflow'"
     ]
    }
   ],
   "source": [
    "import numpy as np\n",
    "import pandas as pd\n",
    "import tensorflow as tf\n",
    "\n",
    "import seaborn as sns   # Why sns?  It's a reference to The West Wing\n",
    "import matplotlib.pyplot as plt  # seaborn is based on matplotlib\n",
    "sns.set(color_codes=True) # adds a nice background to the graphs\n",
    "%matplotlib inline "
   ]
  },
  {
   "cell_type": "markdown",
   "id": "25d42f75",
   "metadata": {},
   "source": [
    "# Spiral arm problem"
   ]
  },
  {
   "cell_type": "markdown",
   "id": "8e516c08",
   "metadata": {},
   "source": [
    "## import the data"
   ]
  },
  {
   "cell_type": "code",
   "execution_count": null,
   "id": "711b0064",
   "metadata": {},
   "outputs": [],
   "source": [
    "df = pd.read_csv('topic3-spiral.csv')"
   ]
  },
  {
   "cell_type": "code",
   "execution_count": null,
   "id": "efbc5549",
   "metadata": {},
   "outputs": [],
   "source": [
    "sns.scatterplot(data=df,x='x',y='y',hue='arm');"
   ]
  },
  {
   "cell_type": "markdown",
   "id": "ec0525a3",
   "metadata": {},
   "source": [
    "## build tensorflow model"
   ]
  },
  {
   "cell_type": "code",
   "execution_count": null,
   "id": "b559d692",
   "metadata": {},
   "outputs": [],
   "source": [
    "NNmodel_adam = tf.keras.models.Sequential([\n",
    "    tf.keras.layers.Dense(8,activation='relu',input_shape=(2,)),\n",
    "    tf.keras.layers.Dense(8,activation='gelu'),\n",
    "    tf.keras.layers.Dense(4,activation='relu'),\n",
    "    tf.keras.layers.Dense(1,activation=tf.nn.sigmoid)])\n",
    "\n",
    "NNmodel_adam.compile(optimizer=tf.keras.optimizers.Adam(learning_rate=0.01),\n",
    "              loss='binary_crossentropy',\n",
    "              metrics=['accuracy'])"
   ]
  },
  {
   "cell_type": "code",
   "execution_count": null,
   "id": "0918ddfd",
   "metadata": {},
   "outputs": [],
   "source": [
    "xtrain = np.zeros((df.shape[0],2))\n",
    "xtrain[:,0] = df['x']\n",
    "xtrain[:,1] = df['y']\n",
    "ytrain = df['arm']"
   ]
  },
  {
   "cell_type": "code",
   "execution_count": null,
   "id": "b177f225",
   "metadata": {},
   "outputs": [],
   "source": [
    "NNmodel_adam.fit(xtrain,ytrain,epochs=100,batch_size=10,validation_split=0.2);"
   ]
  },
  {
   "cell_type": "code",
   "execution_count": null,
   "id": "b89008a4",
   "metadata": {},
   "outputs": [],
   "source": [
    "grid = np.linspace(-2,2,num=51)\n",
    "xg = np.zeros(51**2)\n",
    "yg = np.zeros(51**2)\n",
    "k=0\n",
    "for x in range(51):\n",
    "    for y in range(51):\n",
    "        xg[k]=grid[x]\n",
    "        yg[k]=grid[y]\n",
    "        k+=1\n",
    "\n",
    "xy = np.zeros((51**2,2))\n",
    "xy[:,0]=xg\n",
    "xy[:,1]=yg\n",
    "\n",
    "pred = (NNmodel_adam.predict(xy)> 0.5).astype(int)\n",
    "\n",
    "df_grid = pd.DataFrame({'x':xg,'y':yg,'arm_pred':pred.transpose()[0]})\n",
    "sns.scatterplot(data=df_grid,x='x',y='y',hue='arm_pred');"
   ]
  }
 ],
 "metadata": {
  "kernelspec": {
   "display_name": "Python 3 (ipykernel)",
   "language": "python",
   "name": "python3"
  },
  "language_info": {
   "codemirror_mode": {
    "name": "ipython",
    "version": 3
   },
   "file_extension": ".py",
   "mimetype": "text/x-python",
   "name": "python",
   "nbconvert_exporter": "python",
   "pygments_lexer": "ipython3",
   "version": "3.11.5"
  }
 },
 "nbformat": 4,
 "nbformat_minor": 5
}
