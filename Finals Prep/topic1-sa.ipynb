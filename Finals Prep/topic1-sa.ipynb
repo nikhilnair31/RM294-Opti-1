{
 "cells": [
  {
   "cell_type": "code",
   "execution_count": 1,
   "metadata": {
    "id": "U3wtgcWD3E6L"
   },
   "outputs": [
    {
     "name": "stdout",
     "output_type": "stream",
     "text": [
      "Requirement already satisfied: gurobipy in c:\\users\\nikna\\appdata\\local\\programs\\python\\python311\\lib\\site-packages (10.0.3)\n"
     ]
    },
    {
     "name": "stderr",
     "output_type": "stream",
     "text": [
      "DEPRECATION: textract 1.6.5 has a non-standard dependency specifier extract-msg<=0.29.*. pip 24.0 will enforce this behaviour change. A possible replacement is to upgrade to a newer version of textract or contact the author to suggest that they release a version with a conforming dependency specifiers. Discussion can be found at https://github.com/pypa/pip/issues/12063\n"
     ]
    }
   ],
   "source": [
    "!pip install gurobipy"
   ]
  },
  {
   "cell_type": "code",
   "execution_count": 2,
   "metadata": {
    "id": "Y-833b983D9e"
   },
   "outputs": [],
   "source": [
    "import numpy as np\n",
    "import gurobipy as gp"
   ]
  },
  {
   "cell_type": "markdown",
   "metadata": {
    "id": "qUL1ngUI3D9h"
   },
   "source": [
    "# Juice Glass Example"
   ]
  },
  {
   "cell_type": "code",
   "execution_count": 3,
   "metadata": {
    "id": "cQDyGafC3D99"
   },
   "outputs": [
    {
     "name": "stdout",
     "output_type": "stream",
     "text": [
      "Set parameter Username\n",
      "Academic license - for non-commercial use only - expires 2024-10-19\n"
     ]
    }
   ],
   "source": [
    "ojMod=gp.Model()\n",
    "ojModX = ojMod.addMVar(2)\n",
    "ojMod.setObjective(500*ojModX[0] + 450*ojModX[1],sense=gp.GRB.MAXIMIZE)\n",
    "conlist=[0]*3\n",
    "conlist[0] = ojMod.addConstr(6*ojModX[0] + 5*ojModX[1] <= 60)\n",
    "conlist[1] = ojMod.addConstr(1000*ojModX[0] + 2000*ojModX[1] <= 15000)\n",
    "conlist[2] = ojMod.addConstr(ojModX[0] <= 8)\n",
    "ojMod.Params.OutputFlag = 0 \n",
    "ojMod.optimize() "
   ]
  },
  {
   "cell_type": "code",
   "execution_count": 4,
   "metadata": {},
   "outputs": [
    {
     "data": {
      "text/plain": [
       "5142.857142857143"
      ]
     },
     "execution_count": 4,
     "metadata": {},
     "output_type": "execute_result"
    }
   ],
   "source": [
    "ojMod.objVal # print the optimal objective value"
   ]
  },
  {
   "cell_type": "code",
   "execution_count": 5,
   "metadata": {},
   "outputs": [
    {
     "data": {
      "text/plain": [
       "array([6.42857143, 4.28571429])"
      ]
     },
     "execution_count": 5,
     "metadata": {},
     "output_type": "execute_result"
    }
   ],
   "source": [
    "ojModX.x # print the optimal decision variables"
   ]
  },
  {
   "cell_type": "markdown",
   "metadata": {},
   "source": [
    "# Shadow Prices"
   ]
  },
  {
   "cell_type": "code",
   "execution_count": 6,
   "metadata": {},
   "outputs": [
    {
     "data": {
      "text/plain": [
       "[array(78.57142857), array(0.02857143), array(0.)]"
      ]
     },
     "execution_count": 6,
     "metadata": {},
     "output_type": "execute_result"
    }
   ],
   "source": [
    "[conlist[0].Pi, conlist[1].Pi, conlist[2].Pi]"
   ]
  },
  {
   "cell_type": "code",
   "execution_count": 7,
   "metadata": {},
   "outputs": [
    {
     "data": {
      "text/plain": [
       "[array(78.57142857), array(0.02857143), array(0.)]"
      ]
     },
     "execution_count": 7,
     "metadata": {},
     "output_type": "execute_result"
    }
   ],
   "source": [
    "[con.Pi for con in conlist]"
   ]
  },
  {
   "cell_type": "markdown",
   "metadata": {},
   "source": [
    "# Lower and upper bound where shadow prices are valid"
   ]
  },
  {
   "cell_type": "code",
   "execution_count": 8,
   "metadata": {},
   "outputs": [
    {
     "data": {
      "text/plain": [
       "[array(37.5), array(12800.), array(6.42857143)]"
      ]
     },
     "execution_count": 8,
     "metadata": {},
     "output_type": "execute_result"
    }
   ],
   "source": [
    "[con.SARHSLow for con in conlist]"
   ]
  },
  {
   "cell_type": "code",
   "execution_count": 9,
   "metadata": {},
   "outputs": [
    {
     "data": {
      "text/plain": [
       "[array(65.5), array(24000.), array(inf)]"
      ]
     },
     "execution_count": 9,
     "metadata": {},
     "output_type": "execute_result"
    }
   ],
   "source": [
    "[con.SARHSUp for con in conlist]"
   ]
  },
  {
   "cell_type": "markdown",
   "metadata": {},
   "source": [
    "## Let's see if the shadow price actually works like I told you it would?"
   ]
  },
  {
   "cell_type": "code",
   "execution_count": 10,
   "metadata": {},
   "outputs": [
    {
     "data": {
      "text/plain": [
       "5692.857142857143"
      ]
     },
     "execution_count": 10,
     "metadata": {},
     "output_type": "execute_result"
    }
   ],
   "source": [
    "db = 7\n",
    "ojMod.Objval + db*conlist[0].Pi"
   ]
  },
  {
   "cell_type": "code",
   "execution_count": 11,
   "metadata": {},
   "outputs": [
    {
     "data": {
      "text/plain": [
       "5575.0"
      ]
     },
     "execution_count": 11,
     "metadata": {},
     "output_type": "execute_result"
    }
   ],
   "source": [
    "# now try to re-pose and resolve with 67 hours of production capacity\n",
    "ojMod2=gp.Model()\n",
    "ojModX2 = ojMod2.addMVar(2)\n",
    "ojMod2.setObjective(500*ojModX2[0] + 450*ojModX2[1],sense=gp.GRB.MAXIMIZE)\n",
    "conlist2=[0]*3\n",
    "conlist2[0] = ojMod2.addConstr(6*ojModX2[0] + 5*ojModX2[1] <= 60+db) # add db to the constraint!\n",
    "conlist2[1] = ojMod2.addConstr(1000*ojModX2[0] + 2000*ojModX2[1] <= 15000)\n",
    "conlist2[2] = ojMod2.addConstr(ojModX2[0] <= 8)\n",
    "ojMod2.Params.OutputFlag = 0 \n",
    "ojMod2.optimize() \n",
    "ojMod2.objVal"
   ]
  },
  {
   "cell_type": "markdown",
   "metadata": {},
   "source": [
    "# Range of obj where optimal corner stays the same"
   ]
  },
  {
   "cell_type": "code",
   "execution_count": 12,
   "metadata": {},
   "outputs": [
    {
     "data": {
      "text/plain": [
       "array([225.        , 416.66666667])"
      ]
     },
     "execution_count": 12,
     "metadata": {},
     "output_type": "execute_result"
    }
   ],
   "source": [
    "ojModX.SAObjLow"
   ]
  },
  {
   "cell_type": "code",
   "execution_count": 13,
   "metadata": {},
   "outputs": [
    {
     "data": {
      "text/plain": [
       "array([ 540., 1000.])"
      ]
     },
     "execution_count": 13,
     "metadata": {},
     "output_type": "execute_result"
    }
   ],
   "source": [
    "ojModX.SAObjUp"
   ]
  }
 ],
 "metadata": {
  "colab": {
   "provenance": []
  },
  "kernelspec": {
   "display_name": "Python 3",
   "language": "python",
   "name": "python3"
  },
  "language_info": {
   "codemirror_mode": {
    "name": "ipython",
    "version": 3
   },
   "file_extension": ".py",
   "mimetype": "text/x-python",
   "name": "python",
   "nbconvert_exporter": "python",
   "pygments_lexer": "ipython3",
   "version": "3.11.5"
  }
 },
 "nbformat": 4,
 "nbformat_minor": 1
}
