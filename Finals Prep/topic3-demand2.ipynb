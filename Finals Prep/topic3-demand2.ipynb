{
 "cells": [
  {
   "cell_type": "markdown",
   "id": "e8fac1d1",
   "metadata": {},
   "source": [
    "# Let Solver Pick Number To Manufacture"
   ]
  },
  {
   "cell_type": "code",
   "execution_count": 1,
   "id": "9642beed",
   "metadata": {},
   "outputs": [],
   "source": [
    "import numpy as np\n",
    "from scipy.optimize import minimize"
   ]
  },
  {
   "cell_type": "markdown",
   "id": "1d9744e1",
   "metadata": {},
   "source": [
    "# With quantity manufactured"
   ]
  },
  {
   "cell_type": "code",
   "execution_count": 2,
   "id": "5c485242",
   "metadata": {},
   "outputs": [],
   "source": [
    "def neg_profit2(x):\n",
    "    # x[0] is price\n",
    "    # x[1] is number manufactured\n",
    "    \n",
    "    demand = 3777178*x[0]**(-2.154)\n",
    "    num_sold = min(demand,x[1])\n",
    "    revenue = num_sold*x[0]\n",
    "    cost = 50*x[1]\n",
    "    \n",
    "    profit = revenue-cost\n",
    "    return -profit"
   ]
  },
  {
   "cell_type": "code",
   "execution_count": 3,
   "id": "5c6f6835",
   "metadata": {},
   "outputs": [
    {
     "data": {
      "text/plain": [
       "215.65851140154575"
      ]
     },
     "execution_count": 3,
     "metadata": {},
     "output_type": "execute_result"
    }
   ],
   "source": [
    "3777178*93.32751**(-2.154)"
   ]
  },
  {
   "cell_type": "code",
   "execution_count": 4,
   "id": "788e263e",
   "metadata": {},
   "outputs": [
    {
     "name": "stdout",
     "output_type": "stream",
     "text": [
      "9000\n",
      "7875\n"
     ]
    }
   ],
   "source": [
    "print(-neg_profit2([100,180]))\n",
    "print(-neg_profit2([95,175]))"
   ]
  },
  {
   "cell_type": "code",
   "execution_count": 5,
   "id": "eb711f13",
   "metadata": {},
   "outputs": [
    {
     "data": {
      "text/plain": [
       "9343.945815335002"
      ]
     },
     "execution_count": 5,
     "metadata": {},
     "output_type": "execute_result"
    }
   ],
   "source": [
    "-neg_profit2([93.32751,215.6585])"
   ]
  },
  {
   "cell_type": "code",
   "execution_count": 6,
   "id": "b327d483",
   "metadata": {},
   "outputs": [
    {
     "name": "stdout",
     "output_type": "stream",
     "text": [
      "9332.431351104968\n",
      "[ 96.36700647 201.27310479]\n"
     ]
    }
   ],
   "source": [
    "optProfitNLP2 = minimize(neg_profit2,[90,200],bounds=[(0,1000),(0,1000)],tol=1e-8)\n",
    "print(-optProfitNLP2.fun)\n",
    "print(optProfitNLP2.x)"
   ]
  }
 ],
 "metadata": {
  "kernelspec": {
   "display_name": "Python 3",
   "language": "python",
   "name": "python3"
  },
  "language_info": {
   "codemirror_mode": {
    "name": "ipython",
    "version": 3
   },
   "file_extension": ".py",
   "mimetype": "text/x-python",
   "name": "python",
   "nbconvert_exporter": "python",
   "pygments_lexer": "ipython3",
   "version": "3.11.5"
  }
 },
 "nbformat": 4,
 "nbformat_minor": 5
}
