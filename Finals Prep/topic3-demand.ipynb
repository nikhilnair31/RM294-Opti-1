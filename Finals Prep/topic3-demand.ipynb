{
 "cells": [
  {
   "cell_type": "markdown",
   "id": "f001beed",
   "metadata": {},
   "source": [
    "A company manufactures and sells a product\n",
    "\n",
    "They get to set the price\n",
    "\n",
    "It costs \\$50 / unit to manufacture\n",
    "\n",
    "\n",
    "The price drives demand through a demand function\n",
    "\n",
    "$$ D = \\alpha P^\\beta$$\n",
    "\n",
    "where $ \\alpha > 0$ and $ \\beta < -1 $.\n",
    "\n",
    "Let's assume $\\alpha = 3777178$ and $\\beta = -2.154$.\n",
    "\n",
    "\n",
    "This is called the\n",
    "## Constant Elasticity of Demand Function\n",
    "\n",
    "Calculus solution:\n",
    "$$ p=\\frac{50\\beta}{\\beta+1} $$"
   ]
  },
  {
   "cell_type": "code",
   "execution_count": 1,
   "id": "887b7685",
   "metadata": {},
   "outputs": [],
   "source": [
    "import numpy as np\n",
    "from scipy.optimize import minimize"
   ]
  },
  {
   "cell_type": "markdown",
   "id": "7699d182",
   "metadata": {},
   "source": [
    "# Elasticity of Demand"
   ]
  },
  {
   "cell_type": "code",
   "execution_count": 2,
   "id": "4f20e401",
   "metadata": {},
   "outputs": [],
   "source": [
    "def neg_profit(price):\n",
    "    demand = 3777178*(price[0]**(-2.154))\n",
    "    revenue = price[0]*demand\n",
    "    cost = demand*50\n",
    "    profit = revenue-cost\n",
    "    return(-profit)"
   ]
  },
  {
   "cell_type": "code",
   "execution_count": 3,
   "id": "36ecc6ee",
   "metadata": {},
   "outputs": [
    {
     "name": "stdout",
     "output_type": "stream",
     "text": [
      "8634.26748658103\n",
      "9292.60454653096\n",
      "7760.092168095631\n"
     ]
    }
   ],
   "source": [
    "# what is the profit for a few prices?\n",
    "print(-neg_profit([75]))\n",
    "print(-neg_profit([100]))\n",
    "print(-neg_profit([150]))"
   ]
  },
  {
   "cell_type": "code",
   "execution_count": 4,
   "id": "cdcc40a7",
   "metadata": {},
   "outputs": [
    {
     "name": "stdout",
     "output_type": "stream",
     "text": [
      "93.32755632582322\n",
      "9343.94630933845\n"
     ]
    }
   ],
   "source": [
    "# the calculus answer\n",
    "opt_price = -2.154*50/(-2.154 + 1)\n",
    "print(opt_price)\n",
    "print(-neg_profit([opt_price]))"
   ]
  },
  {
   "cell_type": "code",
   "execution_count": 11,
   "id": "d7f99bbe",
   "metadata": {},
   "outputs": [
    {
     "name": "stdout",
     "output_type": "stream",
     "text": [
      "[93.3275497]\n",
      "9343.946309338391\n"
     ]
    }
   ],
   "source": [
    "optProfitNLP = minimize(neg_profit,[75],bounds=[(0,1000)],tol=1e-8) \n",
    "print(optProfitNLP.x)\n",
    "print(-optProfitNLP.fun)"
   ]
  },
  {
   "cell_type": "code",
   "execution_count": 9,
   "id": "e1d1e61f",
   "metadata": {},
   "outputs": [
    {
     "name": "stdout",
     "output_type": "stream",
     "text": [
      "[93.32751]\n",
      "9343.946309335586\n"
     ]
    }
   ],
   "source": [
    "# starting at different places may lead to different solutions\n",
    "optProfitNLP = minimize(neg_profit,[100],bounds=[(0,1000)])\n",
    "print(optProfitNLP.x)\n",
    "print(-optProfitNLP.fun)\n",
    "# usually not much difference for convex programs"
   ]
  }
 ],
 "metadata": {
  "kernelspec": {
   "display_name": "Python 3",
   "language": "python",
   "name": "python3"
  },
  "language_info": {
   "codemirror_mode": {
    "name": "ipython",
    "version": 3
   },
   "file_extension": ".py",
   "mimetype": "text/x-python",
   "name": "python",
   "nbconvert_exporter": "python",
   "pygments_lexer": "ipython3",
   "version": "3.11.5"
  }
 },
 "nbformat": 4,
 "nbformat_minor": 5
}
