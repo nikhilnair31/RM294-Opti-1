{
 "cells": [
  {
   "cell_type": "code",
   "execution_count": 1,
   "id": "c7c56c99",
   "metadata": {},
   "outputs": [
    {
     "name": "stdout",
     "output_type": "stream",
     "text": [
      "Requirement already satisfied: gurobipy in c:\\users\\nikna\\appdata\\local\\programs\\python\\python311\\lib\\site-packages (10.0.3)\n"
     ]
    },
    {
     "name": "stderr",
     "output_type": "stream",
     "text": [
      "DEPRECATION: textract 1.6.5 has a non-standard dependency specifier extract-msg<=0.29.*. pip 24.0 will enforce this behaviour change. A possible replacement is to upgrade to a newer version of textract or contact the author to suggest that they release a version with a conforming dependency specifiers. Discussion can be found at https://github.com/pypa/pip/issues/12063\n"
     ]
    }
   ],
   "source": [
    "!pip install gurobipy"
   ]
  },
  {
   "cell_type": "code",
   "execution_count": 2,
   "id": "2f382c08",
   "metadata": {},
   "outputs": [],
   "source": [
    "import numpy as np\n",
    "import gurobipy as gp"
   ]
  },
  {
   "cell_type": "code",
   "execution_count": null,
   "id": "43387b3c",
   "metadata": {},
   "outputs": [],
   "source": []
  },
  {
   "cell_type": "markdown",
   "id": "0704992f",
   "metadata": {},
   "source": [
    "# NPV Example"
   ]
  },
  {
   "cell_type": "code",
   "execution_count": null,
   "id": "7e73d55d",
   "metadata": {},
   "outputs": [],
   "source": []
  },
  {
   "cell_type": "code",
   "execution_count": 3,
   "id": "49082bb1",
   "metadata": {},
   "outputs": [],
   "source": [
    "npv = [16000,8000,10000,19500,22000,12000,7500]\n",
    "cost = [5000,2500,3500,6000,7000,4500,3000]\n",
    "budget = 15000"
   ]
  },
  {
   "cell_type": "code",
   "execution_count": 4,
   "id": "7c904d27",
   "metadata": {},
   "outputs": [
    {
     "name": "stdout",
     "output_type": "stream",
     "text": [
      "Set parameter Username\n",
      "Academic license - for non-commercial use only - expires 2024-10-19\n"
     ]
    }
   ],
   "source": [
    "npvMod = gp.Model()\n",
    "npvMod_x = npvMod.addMVar(len(npv),vtype='B') # 'C' or 'I' or 'B'\n",
    "npvMod_con = npvMod.addConstr(gp.quicksum(npvMod_x[i]*cost[i] for i in range(7)) <= budget)\n",
    "npvMod.setObjective(gp.quicksum(npvMod_x[i]*npv[i] for i in range(7)),sense=gp.GRB.MAXIMIZE)\n",
    "\n",
    "npvMod.Params.OutputFlag = 0 # tell gurobi to shut up!!\n",
    "npvMod.optimize()"
   ]
  },
  {
   "cell_type": "code",
   "execution_count": 5,
   "id": "873abc37",
   "metadata": {},
   "outputs": [
    {
     "data": {
      "text/plain": [
       "46000.0"
      ]
     },
     "execution_count": 5,
     "metadata": {},
     "output_type": "execute_result"
    }
   ],
   "source": [
    "npvMod.objVal"
   ]
  },
  {
   "cell_type": "code",
   "execution_count": 6,
   "id": "3b9451de",
   "metadata": {},
   "outputs": [
    {
     "data": {
      "text/plain": [
       "array([1., 1., 0., 0., 1., 0., 0.])"
      ]
     },
     "execution_count": 6,
     "metadata": {},
     "output_type": "execute_result"
    }
   ],
   "source": [
    "npvMod_x.x"
   ]
  },
  {
   "cell_type": "code",
   "execution_count": null,
   "id": "bcb23b5e",
   "metadata": {},
   "outputs": [],
   "source": []
  }
 ],
 "metadata": {
  "kernelspec": {
   "display_name": "Python 3 (ipykernel)",
   "language": "python",
   "name": "python3"
  },
  "language_info": {
   "codemirror_mode": {
    "name": "ipython",
    "version": 3
   },
   "file_extension": ".py",
   "mimetype": "text/x-python",
   "name": "python",
   "nbconvert_exporter": "python",
   "pygments_lexer": "ipython3",
   "version": "3.11.5"
  }
 },
 "nbformat": 4,
 "nbformat_minor": 5
}
