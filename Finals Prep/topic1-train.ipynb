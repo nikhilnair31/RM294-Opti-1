{
 "cells": [
  {
   "cell_type": "code",
   "execution_count": 1,
   "metadata": {
    "id": "U3wtgcWD3E6L"
   },
   "outputs": [
    {
     "name": "stdout",
     "output_type": "stream",
     "text": [
      "Requirement already satisfied: gurobipy in c:\\users\\nikna\\appdata\\local\\programs\\python\\python311\\lib\\site-packages (10.0.3)"
     ]
    },
    {
     "name": "stderr",
     "output_type": "stream",
     "text": [
      "DEPRECATION: textract 1.6.5 has a non-standard dependency specifier extract-msg<=0.29.*. pip 24.0 will enforce this behaviour change. A possible replacement is to upgrade to a newer version of textract or contact the author to suggest that they release a version with a conforming dependency specifiers. Discussion can be found at https://github.com/pypa/pip/issues/12063\n"
     ]
    },
    {
     "name": "stdout",
     "output_type": "stream",
     "text": [
      "\n"
     ]
    }
   ],
   "source": [
    "!pip install gurobipy"
   ]
  },
  {
   "cell_type": "code",
   "execution_count": 2,
   "metadata": {
    "id": "Y-833b983D9e"
   },
   "outputs": [],
   "source": [
    "import numpy as np\n",
    "import gurobipy as gp"
   ]
  },
  {
   "cell_type": "markdown",
   "metadata": {
    "id": "gm7tUoIL3D9_"
   },
   "source": [
    "# Train Example"
   ]
  },
  {
   "cell_type": "code",
   "execution_count": 3,
   "metadata": {
    "id": "tejQJDLXOblB"
   },
   "outputs": [],
   "source": [
    "objvec = [2000,2500,5000,3500]\n",
    "density = [400,300,200,500]\n",
    "weightmax = [10,8,12]\n",
    "volmax = [5000,4000,8000]\n",
    "availmax=[18,10,5,20]"
   ]
  },
  {
   "cell_type": "code",
   "execution_count": 4,
   "metadata": {
    "id": "a9ywUVPQ3D-B"
   },
   "outputs": [
    {
     "name": "stdout",
     "output_type": "stream",
     "text": [
      "Set parameter Username\n",
      "Academic license - for non-commercial use only - expires 2024-10-19\n"
     ]
    }
   ],
   "source": [
    "trainMod = gp.Model()\n",
    "\n",
    "Trainx = trainMod.addMVar((3,4)) # tell the model how many variables there are...this can be a multi-dimensional array of variables\n"
   ]
  },
  {
   "cell_type": "code",
   "execution_count": 5,
   "metadata": {
    "id": "vs6ZER8k3D-C"
   },
   "outputs": [],
   "source": [
    "# let's add constraints first\n",
    "# we could add each constraint individually\n",
    "wcons = [0]*3\n",
    "wcons[0] = trainMod.addConstr(Trainx[0,0]+Trainx[0,1]+Trainx[0,2]+Trainx[0,3] <= weightmax[0])\n",
    "wcons[1] = trainMod.addConstr(Trainx[1,0]+Trainx[1,1]+Trainx[1,2]+Trainx[1,3] <= weightmax[1])\n",
    "wcons[2] = trainMod.addConstr(Trainx[2,0]+Trainx[2,1]+Trainx[2,2]+Trainx[2,3] <= weightmax[2])\n",
    "\n"
   ]
  },
  {
   "cell_type": "code",
   "execution_count": 6,
   "metadata": {},
   "outputs": [],
   "source": [
    "# that was a bit burdensome\n",
    "# a slightly faster way to do it is with gp.quicksum\n",
    "wcons = [0]*3\n",
    "wcons[0] = trainMod.addConstr(gp.quicksum(Trainx[0,j] for j in range(4)) <= weightmax[0])\n",
    "wcons[1] = trainMod.addConstr(gp.quicksum(Trainx[1,j] for j in range(4)) <= weightmax[1])\n",
    "wcons[2] = trainMod.addConstr(gp.quicksum(Trainx[2,j] for j in range(4)) <= weightmax[2])\n"
   ]
  },
  {
   "cell_type": "code",
   "execution_count": 7,
   "metadata": {},
   "outputs": [],
   "source": [
    "# we can actually add all these constraints at the same time using addConstrs\n",
    "wcons = trainMod.addConstrs((gp.quicksum(Trainx[i,j] for j in range(4))<=weightmax[i]) for i in range(3))\n"
   ]
  },
  {
   "cell_type": "code",
   "execution_count": 8,
   "metadata": {},
   "outputs": [],
   "source": [
    "# volume constraints\n",
    "vcons = trainMod.addConstrs((gp.quicksum(density[j]*Trainx[i,j] for j in range(4))<=volmax[i]) for i in range(3))\n",
    "# availability constraints\n",
    "acons = trainMod.addConstrs((gp.quicksum(Trainx[i,j] for i in range(3))<=availmax[j]) for j in range(4))\n"
   ]
  },
  {
   "cell_type": "code",
   "execution_count": 9,
   "metadata": {},
   "outputs": [],
   "source": [
    "# objective\n",
    "trainMod.setObjective(gp.quicksum(objvec[j]*Trainx[i,j] for i in range(3) for j in range(4)),gp.GRB.MAXIMIZE)"
   ]
  },
  {
   "cell_type": "code",
   "execution_count": 10,
   "metadata": {},
   "outputs": [],
   "source": [
    "trainMod.Params.OutputFlag = 0 # tell gurobi to shut up!!\n",
    "trainMod.optimize()"
   ]
  },
  {
   "cell_type": "code",
   "execution_count": 11,
   "metadata": {
    "id": "NK9PKwjf3D-D"
   },
   "outputs": [
    {
     "data": {
      "text/plain": [
       "array([[ 0.,  0.,  0., 10.],\n",
       "       [ 0.,  0.,  0.,  8.],\n",
       "       [ 0.,  5.,  5.,  2.]])"
      ]
     },
     "execution_count": 11,
     "metadata": {},
     "output_type": "execute_result"
    }
   ],
   "source": [
    "Trainx.x"
   ]
  },
  {
   "cell_type": "code",
   "execution_count": 12,
   "metadata": {
    "id": "_iWxAsMV3D-E"
   },
   "outputs": [
    {
     "data": {
      "text/plain": [
       "107500.0"
      ]
     },
     "execution_count": 12,
     "metadata": {},
     "output_type": "execute_result"
    }
   ],
   "source": [
    "trainMod.objVal"
   ]
  },
  {
   "cell_type": "code",
   "execution_count": null,
   "metadata": {},
   "outputs": [],
   "source": []
  }
 ],
 "metadata": {
  "colab": {
   "provenance": []
  },
  "kernelspec": {
   "display_name": "Python 3 (ipykernel)",
   "language": "python",
   "name": "python3"
  },
  "language_info": {
   "codemirror_mode": {
    "name": "ipython",
    "version": 3
   },
   "file_extension": ".py",
   "mimetype": "text/x-python",
   "name": "python",
   "nbconvert_exporter": "python",
   "pygments_lexer": "ipython3",
   "version": "3.11.5"
  }
 },
 "nbformat": 4,
 "nbformat_minor": 1
}
