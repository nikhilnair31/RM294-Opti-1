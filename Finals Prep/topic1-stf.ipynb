{
 "cells": [
  {
   "cell_type": "code",
   "execution_count": 1,
   "metadata": {
    "id": "LxKf-H93XchE"
   },
   "outputs": [
    {
     "name": "stdout",
     "output_type": "stream",
     "text": [
      "Requirement already satisfied: gurobipy in c:\\users\\nikna\\appdata\\local\\programs\\python\\python311\\lib\\site-packages (10.0.3)\n"
     ]
    },
    {
     "name": "stderr",
     "output_type": "stream",
     "text": [
      "DEPRECATION: textract 1.6.5 has a non-standard dependency specifier extract-msg<=0.29.*. pip 24.0 will enforce this behaviour change. A possible replacement is to upgrade to a newer version of textract or contact the author to suggest that they release a version with a conforming dependency specifiers. Discussion can be found at https://github.com/pypa/pip/issues/12063\n"
     ]
    }
   ],
   "source": [
    "!pip install gurobipy"
   ]
  },
  {
   "cell_type": "code",
   "execution_count": 2,
   "metadata": {
    "id": "zoGfKsRQXb8b"
   },
   "outputs": [],
   "source": [
    "import numpy as np\n",
    "import gurobipy as gp\n"
   ]
  },
  {
   "cell_type": "markdown",
   "metadata": {
    "id": "XVQDwVwpW68w"
   },
   "source": [
    "## Short term financing problem"
   ]
  },
  {
   "cell_type": "code",
   "execution_count": 3,
   "metadata": {
    "id": "SzJ5rG0UW-To"
   },
   "outputs": [
    {
     "name": "stdout",
     "output_type": "stream",
     "text": [
      "Set parameter Username\n",
      "Academic license - for non-commercial use only - expires 2024-10-19\n"
     ]
    }
   ],
   "source": [
    "mod = gp.Model()\n",
    "bankloanx = mod.addMVar(5,ub=100) # UB and LB can be used to set upper and lower bounds of variables\n",
    "compapx = mod.addMVar(3)\n",
    "depositx = mod.addMVar(6)\n",
    "\n",
    "# recall that gurobi automatically assumes that all variables are non-negative\n",
    "# if we want to allow negative values we need to do that with the lb command when we define variables\n",
    "# for example:\n",
    "# negative_var = mod.addMVar(1,lb=-np.inf)\n",
    "# if we have several variables we want to add with different lower and upper bounds, \n",
    "# we can put them in with a vector\n",
    "# vars = mod.addMVar(5,lb=np.array([-1,2,-np.inf,0,0]),ub=np.array([5,5,3,np.inf,np.inf]))"
   ]
  },
  {
   "cell_type": "code",
   "execution_count": 4,
   "metadata": {},
   "outputs": [],
   "source": [
    "mod.setObjective(depositx[5],sense=gp.GRB.MAXIMIZE)"
   ]
  },
  {
   "cell_type": "code",
   "execution_count": 5,
   "metadata": {
    "id": "yCFbe6vna1ET"
   },
   "outputs": [],
   "source": [
    "conlist = [0]*6\n",
    "\n",
    "#x1+y1-z1:\n",
    "conlist[0] = mod.addConstr(bankloanx[0]+compapx[0]-depositx[0]==150)\n",
    "#x2 +y2 -1.01x1 +1.003z1 - z2\n",
    "conlist[1] = mod.addConstr(bankloanx[1] + compapx[1] - 1.01*bankloanx[0] + 1.003*depositx[0] - depositx[1]==100)\n",
    "#x3 +y3 -1.01x2 +1.003z2 - z3:\n",
    "conlist[2] = mod.addConstr(bankloanx[2] + compapx[2] - 1.01*bankloanx[1] + 1.003*depositx[1] - depositx[2]==-200)\n",
    "#x4 - 1.02y1 -1.01x3 +1.003z3 - z4:\n",
    "conlist[3] = mod.addConstr(bankloanx[3] - 1.01*bankloanx[2] - 1.02*compapx[0] + 1.003*depositx[2] - depositx[3]==200)\n",
    "#x5 - 1.02y2 -1.01x4 +1.003z4 - z5:\n",
    "conlist[4] = mod.addConstr(bankloanx[4] - 1.01*bankloanx[3] - 1.02*compapx[1] + 1.003*depositx[3] - depositx[4]==-50)\n",
    "#   - 1.02y3 -1.01x5 +1.003z5 - z6:\n",
    "conlist[5] = mod.addConstr( -1.01*bankloanx[4] - 1.02*compapx[2] + 1.003*depositx[4] - depositx[5]==-300)"
   ]
  },
  {
   "cell_type": "code",
   "execution_count": 6,
   "metadata": {},
   "outputs": [],
   "source": [
    "mod.Params.OutputFlag = 0 # tell gurobi to shut up!!\n",
    "mod.optimize()"
   ]
  },
  {
   "cell_type": "code",
   "execution_count": 7,
   "metadata": {},
   "outputs": [
    {
     "name": "stdout",
     "output_type": "stream",
     "text": [
      "[ 0.         50.98039216  0.          0.          0.        ]\n"
     ]
    }
   ],
   "source": [
    "print(bankloanx.x)"
   ]
  },
  {
   "cell_type": "code",
   "execution_count": 8,
   "metadata": {},
   "outputs": [
    {
     "name": "stdout",
     "output_type": "stream",
     "text": [
      "[150.          49.01960784 203.43436358]\n"
     ]
    }
   ],
   "source": [
    "print(compapx.x)"
   ]
  },
  {
   "cell_type": "code",
   "execution_count": 9,
   "metadata": {},
   "outputs": [
    {
     "name": "stdout",
     "output_type": "stream",
     "text": [
      "[  0.           0.         351.9441675    0.           0.\n",
      "  92.49694915]\n"
     ]
    }
   ],
   "source": [
    "print(depositx.x)"
   ]
  }
 ],
 "metadata": {
  "colab": {
   "provenance": []
  },
  "kernelspec": {
   "display_name": "Python 3 (ipykernel)",
   "language": "python",
   "name": "python3"
  },
  "language_info": {
   "codemirror_mode": {
    "name": "ipython",
    "version": 3
   },
   "file_extension": ".py",
   "mimetype": "text/x-python",
   "name": "python",
   "nbconvert_exporter": "python",
   "pygments_lexer": "ipython3",
   "version": "3.11.5"
  }
 },
 "nbformat": 4,
 "nbformat_minor": 1
}
