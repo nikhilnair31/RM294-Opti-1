{
 "cells": [
  {
   "cell_type": "markdown",
   "metadata": {},
   "source": [
    "# Optimization\n",
    "## Homework 3"
   ]
  },
  {
   "cell_type": "code",
   "execution_count": null,
   "metadata": {},
   "outputs": [],
   "source": [
    "import numpy as np\n",
    "import pandas as pd\n",
    "from scipy.optimize import minimize\n",
    "import statsmodels.api as sm\n",
    "from sklearn import linear_model"
   ]
  },
  {
   "cell_type": "markdown",
   "metadata": {},
   "source": [
    "### Problem 1"
   ]
  },
  {
   "cell_type": "code",
   "execution_count": null,
   "metadata": {},
   "outputs": [],
   "source": [
    "# objective function will be minimized\n",
    "def neg_machines(resources):    \n",
    "    #resources[0] = labor\n",
    "    #resources[1] = capital\n",
    "    return (-0.05*(resources[0]**(2/3))*(resources[1]**(1/3)))"
   ]
  },
  {
   "cell_type": "code",
   "execution_count": null,
   "metadata": {},
   "outputs": [],
   "source": [
    "# inequality constraints must be >= 0\n",
    "def confun(resources):\n",
    "    return (-12*resources[0]-15*resources[1]+100000)"
   ]
  },
  {
   "cell_type": "code",
   "execution_count": null,
   "metadata": {},
   "outputs": [],
   "source": [
    "constr1 = {'type':'ineq', 'fun': confun}\n",
    "constraints = [constr1]"
   ]
  },
  {
   "cell_type": "code",
   "execution_count": null,
   "metadata": {},
   "outputs": [],
   "source": [
    "opt_resources = minimize(neg_machines,[1000,1000],constraints=constraints) "
   ]
  },
  {
   "cell_type": "code",
   "execution_count": null,
   "metadata": {},
   "outputs": [],
   "source": [
    "#Display solution\n",
    "opt_resources.x"
   ]
  },
  {
   "cell_type": "code",
   "execution_count": null,
   "metadata": {},
   "outputs": [],
   "source": [
    "#Display objective\n",
    "-opt_resources.fun"
   ]
  },
  {
   "cell_type": "code",
   "execution_count": null,
   "metadata": {},
   "outputs": [],
   "source": []
  },
  {
   "cell_type": "markdown",
   "metadata": {},
   "source": [
    "### Problem 2"
   ]
  },
  {
   "cell_type": "code",
   "execution_count": null,
   "metadata": {},
   "outputs": [],
   "source": [
    "#read csv\n",
    "df = pd.read_csv(r'.\\homework4stocks.csv')"
   ]
  },
  {
   "cell_type": "code",
   "execution_count": null,
   "metadata": {},
   "outputs": [],
   "source": [
    "threshold_return = 0.01\n",
    "nstocks = len(df.columns)-1\n",
    "meanvec = df.mean(axis = 0)\n",
    "Sigma = df.cov()\n",
    "\n",
    "w = np.ones(nstocks)/3"
   ]
  },
  {
   "cell_type": "code",
   "execution_count": null,
   "metadata": {},
   "outputs": [],
   "source": [
    "# objective function will be minimized\n",
    "def obj_fun(x):\n",
    "    return np.sum([x[i]*x[j]*Sigma[i,j] for i in range(len(x)) for j in range(len(x))])\n",
    "    "
   ]
  },
  {
   "cell_type": "code",
   "execution_count": null,
   "metadata": {},
   "outputs": [],
   "source": [
    "# inequality constraints must be >= 0\n",
    "def mean_con_fun(x):\n",
    "    return np.sum(np.array(x) * meanvec) - threshold_return"
   ]
  },
  {
   "cell_type": "code",
   "execution_count": null,
   "metadata": {},
   "outputs": [],
   "source": [
    "# equality constraints must be =0\n",
    "def all_invest_con(x):\n",
    "    return np.sum(x)-1"
   ]
  },
  {
   "cell_type": "code",
   "execution_count": null,
   "metadata": {},
   "outputs": [],
   "source": [
    "con1 = {'type':'eq', 'fun': all_invest_con}\n",
    "con2 = {'type':'ineq', 'fun': mean_con_fun}\n",
    "cons = [con1,con2]\n",
    "bds = [(0,1)]*nstocks # all weights must be between 0-1"
   ]
  },
  {
   "cell_type": "code",
   "execution_count": null,
   "metadata": {},
   "outputs": [],
   "source": [
    "opt_port = minimize(obj_fun,w,constraints=cons,bounds=bds) "
   ]
  },
  {
   "cell_type": "code",
   "execution_count": null,
   "metadata": {},
   "outputs": [],
   "source": [
    "opt_port.x"
   ]
  },
  {
   "cell_type": "code",
   "execution_count": null,
   "metadata": {},
   "outputs": [],
   "source": [
    "#\n",
    "opt_port.fun"
   ]
  },
  {
   "cell_type": "code",
   "execution_count": null,
   "metadata": {},
   "outputs": [],
   "source": []
  },
  {
   "cell_type": "markdown",
   "metadata": {},
   "source": [
    "### Problem 3\n"
   ]
  },
  {
   "cell_type": "markdown",
   "metadata": {},
   "source": [
    "For each case, we run the ordinary linear regression and then we choose the one with the smallest sum of squared errors."
   ]
  },
  {
   "cell_type": "code",
   "execution_count": null,
   "metadata": {},
   "outputs": [],
   "source": [
    "df = pd.read_csv(r'.\\variable_selection.csv')\n",
    "SSE = np.zeros(6)"
   ]
  },
  {
   "cell_type": "code",
   "execution_count": null,
   "metadata": {},
   "outputs": [],
   "source": [
    "X = df[['x1']]\n",
    "y = df['y']\n",
    "X = sm.add_constant(X)\n",
    "model = sm.OLS(y,X).fit()\n",
    "predictions = model.predict(X)\n",
    "SSE[0] = sum(np.square(predictions - y)) "
   ]
  },
  {
   "cell_type": "code",
   "execution_count": null,
   "metadata": {},
   "outputs": [],
   "source": [
    "X = df[['x2']]\n",
    "y = df['y']\n",
    "X = sm.add_constant(X)\n",
    "model = sm.OLS(y,X).fit()\n",
    "predictions = model.predict(X)\n",
    "SSE[1] = sum(np.square(predictions - y)) "
   ]
  },
  {
   "cell_type": "code",
   "execution_count": null,
   "metadata": {},
   "outputs": [],
   "source": [
    "X = df[['x3']]\n",
    "y = df['y']\n",
    "X = sm.add_constant(X)\n",
    "model = sm.OLS(y,X).fit()\n",
    "predictions = model.predict(X)\n",
    "SSE[2] = sum(np.square(predictions - y)) "
   ]
  },
  {
   "cell_type": "code",
   "execution_count": null,
   "metadata": {},
   "outputs": [],
   "source": [
    "X = df[['x1','x2']]\n",
    "y = df['y']\n",
    "X = sm.add_constant(X)\n",
    "model = sm.OLS(y,X).fit()\n",
    "predictions = model.predict(X)\n",
    "SSE[3] = sum(np.square(predictions - y)) "
   ]
  },
  {
   "cell_type": "code",
   "execution_count": null,
   "metadata": {},
   "outputs": [],
   "source": [
    "X = df[['x1','x3']]\n",
    "y = df['y']\n",
    "X = sm.add_constant(X)\n",
    "model = sm.OLS(y,X).fit()\n",
    "predictions = model.predict(X)\n",
    "SSE[4] = sum(np.square(predictions - y)) "
   ]
  },
  {
   "cell_type": "code",
   "execution_count": null,
   "metadata": {},
   "outputs": [],
   "source": [
    "X = df[['x2','x3']]\n",
    "y = df['y']\n",
    "X = sm.add_constant(X)\n",
    "model = sm.OLS(y,X).fit()\n",
    "predictions = model.predict(X)\n",
    "SSE[5] = sum(np.square(predictions - y)) "
   ]
  },
  {
   "cell_type": "code",
   "execution_count": null,
   "metadata": {},
   "outputs": [],
   "source": [
    "SSE"
   ]
  },
  {
   "cell_type": "markdown",
   "metadata": {},
   "source": [
    "Since the 4th pair has the smallest sum of squared error, we chose it. The relative coefficients are 2.9992, 3.9692 and 0, which is super close to the true values $\\beta_1 = 3, \\beta_2 = 4, \\beta_3 = 0$."
   ]
  },
  {
   "cell_type": "markdown",
   "metadata": {},
   "source": [
    "### Problem 4"
   ]
  },
  {
   "cell_type": "markdown",
   "metadata": {},
   "source": [
    "Let the $i^{th}$ team's rating be $x_i$. the actual average of the ratings being 85 is equivalent to \n",
    "\\begin{align}\n",
    "\\dfrac{\\sum_{i=1}^{32}x_i}{32} = 85.\n",
    "\\end{align}\n",
    "Rearrange it to have \n",
    "\\begin{align}\n",
    "x_{32}=85\\times 32 - \\sum_{i=1}^{32}x_i.\n",
    "\\end{align}\n",
    "That is to say, instead of having 32 team ratings, we only need the first 31, and the last one can be calculated. Besides the ratings, the home team advantage is also a variable. As a result, there are 32 variables in total. The initial value to use for optimization is that all the ratings are the same, namely 85, and there is no home team advantage."
   ]
  },
  {
   "cell_type": "code",
   "execution_count": null,
   "metadata": {},
   "outputs": [],
   "source": [
    "df = pd.read_csv(r'.\\nflratings.csv',header=None)\n",
    "df.columns = ['week','home','away','hscore','vscore']"
   ]
  },
  {
   "cell_type": "code",
   "execution_count": null,
   "metadata": {},
   "outputs": [],
   "source": [
    "def SSE(xopt):\n",
    "    #The last element of x is the home team advantage\n",
    "    home_advantage = xopt[31]\n",
    "    #Because the avg. rating is 85, the rating of the last team can be calc. from\n",
    "    #other 31 teams\n",
    "    x = np.concatenate((np.transpose(xopt[0:31]),np.array([85*32-sum(xopt[0:31])])))\n",
    "    N = len(df.week)\n",
    "    \n",
    "    SSE = 0\n",
    "    for i in range(0,N):\n",
    "        pred_spread = x[df.home[i]-1] - x[df.away[i]-1] + home_advantage\n",
    "        real_spread = df.hscore[i] - df.vscore[i]\n",
    "        SSE = SSE + (pred_spread - real_spread)**2\n",
    "    \n",
    "    return SSE\n"
   ]
  },
  {
   "cell_type": "code",
   "execution_count": null,
   "metadata": {},
   "outputs": [],
   "source": [
    "ini = np.concatenate((85*np.ones(31),np.zeros(1)))\n",
    "opt = minimize(SSE,ini) \n",
    "print(opt.x)\n",
    "print(opt.fun)"
   ]
  },
  {
   "cell_type": "code",
   "execution_count": null,
   "metadata": {},
   "outputs": [],
   "source": [
    "rank = np.concatenate((np.transpose(opt.x[0:31]),np.array([85*32-sum(opt.x[0:31])])))\n",
    "home_advantage = opt.x[31]\n",
    "\n",
    "N = len(df)\n",
    "pred_spread = np.zeros(N)\n",
    "\n",
    "for i in range(0,N):\n",
    "    pred_spread[i] = rank[df.home[i]-1] - rank[df.away[i]-1] + home_advantage\n",
    "    \n",
    "real_spread = df.hscore-df.vscore"
   ]
  },
  {
   "cell_type": "code",
   "execution_count": null,
   "metadata": {},
   "outputs": [],
   "source": [
    "pred_result = (pred_spread >= 0)\n",
    "real_result = (real_spread >= 0)\n",
    "\n",
    "precision = sum(pred_result == real_result)/N\n",
    "precision"
   ]
  },
  {
   "cell_type": "code",
   "execution_count": null,
   "metadata": {},
   "outputs": [],
   "source": [
    "print(\"The confusion matrix is:\")\n",
    "pd.crosstab(pred_result,real_result,rownames='p',colnames='r')"
   ]
  },
  {
   "cell_type": "code",
   "execution_count": null,
   "metadata": {},
   "outputs": [],
   "source": [
    "print(\"Correct predictions:\")\n",
    "72+109"
   ]
  }
 ],
 "metadata": {
  "kernelspec": {
   "display_name": "Python 3 (ipykernel)",
   "language": "python",
   "name": "python3"
  },
  "language_info": {
   "codemirror_mode": {
    "name": "ipython",
    "version": 3
   },
   "file_extension": ".py",
   "mimetype": "text/x-python",
   "name": "python",
   "nbconvert_exporter": "python",
   "pygments_lexer": "ipython3",
   "version": "3.7.13"
  }
 },
 "nbformat": 4,
 "nbformat_minor": 4
}
