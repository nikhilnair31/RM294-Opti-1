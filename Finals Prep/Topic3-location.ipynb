{
 "cells": [
  {
   "cell_type": "code",
   "execution_count": 1,
   "metadata": {},
   "outputs": [],
   "source": [
    "import numpy as np\n",
    "from scipy.optimize import minimize"
   ]
  },
  {
   "cell_type": "code",
   "execution_count": 25,
   "metadata": {},
   "outputs": [],
   "source": [
    "def obj(xy):\n",
    "    # xy[0] is x location\n",
    "    # xy[1] is y location\n",
    "    \n",
    "    distance1 = np.sqrt((5-xy[0])**2 + (10-xy[1])**2)\n",
    "    distance2 = np.sqrt((10-xy[0])**2 + (5-xy[1])**2)\n",
    "    distance3 = np.sqrt((0-xy[0])**2 + (12-xy[1])**2)\n",
    "    distance4 = np.sqrt((12-xy[0])**2 + (0-xy[1])**2)\n",
    "    \n",
    "    return 2*(distance1*200 + distance2*150 + distance3*200 + distance4*300) "
   ]
  },
  {
   "cell_type": "code",
   "execution_count": 26,
   "metadata": {},
   "outputs": [
    {
     "name": "stdout",
     "output_type": "stream",
     "text": [
      "19826.237921249263\n",
      "14582.9099030015\n"
     ]
    }
   ],
   "source": [
    "print(obj([0,0]))\n",
    "print(obj([3,3]))"
   ]
  },
  {
   "cell_type": "code",
   "execution_count": 27,
   "metadata": {},
   "outputs": [],
   "source": [
    "best_loc = minimize(obj,[0,0],method='SLSQP')"
   ]
  },
  {
   "cell_type": "code",
   "execution_count": 28,
   "metadata": {},
   "outputs": [
    {
     "data": {
      "text/plain": [
       "array([9.31414739, 5.02869991])"
      ]
     },
     "execution_count": 28,
     "metadata": {},
     "output_type": "execute_result"
    }
   ],
   "source": [
    "best_loc.x"
   ]
  },
  {
   "cell_type": "code",
   "execution_count": 29,
   "metadata": {},
   "outputs": [
    {
     "data": {
      "text/plain": [
       "10913.079375064093"
      ]
     },
     "execution_count": 29,
     "metadata": {},
     "output_type": "execute_result"
    }
   ],
   "source": [
    "best_loc.fun"
   ]
  },
  {
   "cell_type": "code",
   "execution_count": 7,
   "metadata": {},
   "outputs": [],
   "source": [
    "# inequality constraints must be >= 0! \n",
    "# that means the constraint that x[1] >= x[0] must be written as x[1] - x[0] >= 0\n",
    "# then we just need a function to return x[1]-x[0]\n",
    "# and the solver will know that this should be >= 0\n",
    "# it works similary for equality constraints...\n",
    "# equality constraints must be written as a function(x) = 0\n",
    "\n",
    "\n",
    "def confun(x):\n",
    "    return x[1]-x[0]"
   ]
  },
  {
   "cell_type": "code",
   "execution_count": 8,
   "metadata": {},
   "outputs": [],
   "source": [
    "# now we create a dictionary telling the solver what type of constraint and what the function is\n",
    "constr1 = {'type':'ineq', 'fun': confun}\n",
    "# then we put all our constraint dictionaries into a list\n",
    "constraints = [constr1]"
   ]
  },
  {
   "cell_type": "code",
   "execution_count": 22,
   "metadata": {},
   "outputs": [],
   "source": [
    "best_loc_north = minimize(obj,[3,2],constraints=constraints)"
   ]
  },
  {
   "cell_type": "code",
   "execution_count": 23,
   "metadata": {},
   "outputs": [
    {
     "data": {
      "text/plain": [
       "array([6.93579245, 6.93579245])"
      ]
     },
     "execution_count": 23,
     "metadata": {},
     "output_type": "execute_result"
    }
   ],
   "source": [
    "best_loc_north.x"
   ]
  },
  {
   "cell_type": "code",
   "execution_count": 24,
   "metadata": {},
   "outputs": [
    {
     "data": {
      "text/plain": [
       "11124.981578185989"
      ]
     },
     "execution_count": 24,
     "metadata": {},
     "output_type": "execute_result"
    }
   ],
   "source": [
    "best_loc_north.fun"
   ]
  },
  {
   "cell_type": "code",
   "execution_count": 12,
   "metadata": {},
   "outputs": [],
   "source": [
    "# if you have an inequality constraint, it's usually best for your initial guess\n",
    "# to be at a point that does not satisfy the inequality constraint at equality\n",
    "# for example, if you have a constraint x2 >= x1, it's best not to start at x2 = x1.\n",
    "#\n",
    "# but if you have an equality constraint, you should start at a point that satisfies\n",
    "# that constraint\n",
    "# for example if you have a constraint x1+x2 = 1, then you should start somewhere \n",
    "# like x1 = 0.4, x2 = 0.6\n"
   ]
  },
  {
   "cell_type": "markdown",
   "metadata": {},
   "source": [
    "# Jacobian\n",
    "If we can do a little calculus then we can do better!\n",
    "\n",
    "The jacobian is the vector of partial derivatives\n",
    "\n",
    "If we can calculate the jacobian of the objective and each constraint the solver will work better"
   ]
  },
  {
   "cell_type": "code",
   "execution_count": 13,
   "metadata": {},
   "outputs": [],
   "source": [
    "def con_jac(xy):\n",
    "    return [-1,1]"
   ]
  },
  {
   "cell_type": "code",
   "execution_count": 14,
   "metadata": {},
   "outputs": [],
   "source": [
    "con1 = constr1 = {'type':'ineq', 'fun': confun, 'jac': con_jac}\n",
    "con = [con1]"
   ]
  },
  {
   "cell_type": "code",
   "execution_count": 15,
   "metadata": {},
   "outputs": [],
   "source": [
    "def obj_jac(xy):\n",
    "    dd1dx = 0.5/np.sqrt((5-xy[0])**2 + (10-xy[1])**2)*2*(xy[0]-5)\n",
    "    dd1dy = 0.5/np.sqrt((5-xy[0])**2 + (10-xy[1])**2)*2*(xy[1]-10)\n",
    "    dd2dx = 0.5/np.sqrt((10-xy[0])**2 + (5-xy[1])**2)*2*(xy[0]-10)\n",
    "    dd2dy = 0.5/np.sqrt((10-xy[0])**2 + (5-xy[1])**2)*2*(xy[1]-5)\n",
    "    dd3dx = 0.5/np.sqrt((0-xy[0])**2 + (12-xy[1])**2)*2*(xy[0]-0)\n",
    "    dd3dy = 0.5/np.sqrt((0-xy[0])**2 + (12-xy[1])**2)*2*(xy[1]-12)\n",
    "    dd4dx = 0.5/np.sqrt((12-xy[0])**2 + (0-xy[1])**2)*2*(xy[0]-12)\n",
    "    dd4dy = 0.5/np.sqrt((12-xy[0])**2 + (0-xy[1])**2)*2*(xy[1]-0)\n",
    "    \n",
    "    return [2*(dd1dx*200 + dd2dx*150 + dd3dx*200 + dd4dx*300), 2*(dd1dy*200 + dd2dy*150 + dd3dy*200 + dd4dy*300)]"
   ]
  },
  {
   "cell_type": "code",
   "execution_count": 16,
   "metadata": {},
   "outputs": [],
   "source": [
    "best_loc_north_withJacobian = minimize(obj,[3,2],constraints=con,jac=obj_jac)"
   ]
  },
  {
   "cell_type": "code",
   "execution_count": 17,
   "metadata": {},
   "outputs": [
    {
     "data": {
      "text/plain": [
       "11124.981578187218"
      ]
     },
     "execution_count": 17,
     "metadata": {},
     "output_type": "execute_result"
    }
   ],
   "source": [
    "best_loc_north_withJacobian.fun"
   ]
  },
  {
   "cell_type": "code",
   "execution_count": 18,
   "metadata": {},
   "outputs": [
    {
     "data": {
      "text/plain": [
       "array([6.93579262, 6.93579262])"
      ]
     },
     "execution_count": 18,
     "metadata": {},
     "output_type": "execute_result"
    }
   ],
   "source": [
    "best_loc_north_withJacobian.x"
   ]
  }
 ],
 "metadata": {
  "kernelspec": {
   "display_name": "Python 3 (ipykernel)",
   "language": "python",
   "name": "python3"
  },
  "language_info": {
   "codemirror_mode": {
    "name": "ipython",
    "version": 3
   },
   "file_extension": ".py",
   "mimetype": "text/x-python",
   "name": "python",
   "nbconvert_exporter": "python",
   "pygments_lexer": "ipython3",
   "version": "3.11.5"
  }
 },
 "nbformat": 4,
 "nbformat_minor": 2
}
