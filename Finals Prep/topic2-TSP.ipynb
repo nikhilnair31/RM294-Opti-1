{
 "cells": [
  {
   "cell_type": "code",
   "execution_count": 1,
   "metadata": {
    "id": "C13irFNMUF5_"
   },
   "outputs": [
    {
     "name": "stdout",
     "output_type": "stream",
     "text": [
      "Requirement already satisfied: gurobipy in c:\\users\\nikna\\appdata\\local\\programs\\python\\python311\\lib\\site-packages (10.0.3)\n"
     ]
    },
    {
     "name": "stderr",
     "output_type": "stream",
     "text": [
      "DEPRECATION: textract 1.6.5 has a non-standard dependency specifier extract-msg<=0.29.*. pip 24.0 will enforce this behaviour change. A possible replacement is to upgrade to a newer version of textract or contact the author to suggest that they release a version with a conforming dependency specifiers. Discussion can be found at https://github.com/pypa/pip/issues/12063\n"
     ]
    }
   ],
   "source": [
    "!pip install gurobipy"
   ]
  },
  {
   "cell_type": "code",
   "execution_count": 2,
   "metadata": {
    "id": "BO1lf1NcUD-o"
   },
   "outputs": [],
   "source": [
    "import numpy as np\n",
    "import gurobipy as gp"
   ]
  },
  {
   "cell_type": "code",
   "execution_count": 3,
   "metadata": {
    "id": "w5MNsiJvUD-q"
   },
   "outputs": [],
   "source": [
    "M = 10000.0\n",
    "N = 5\n",
    "distMat = np.array([[M,132,217,164,58],[132,M,290,201,79],[217,290,M,113,303],[164,201,113,M,196],[58,79,303,196,M]])\n",
    "\n"
   ]
  },
  {
   "cell_type": "code",
   "execution_count": 4,
   "metadata": {
    "id": "_OYluXGi5QH2"
   },
   "outputs": [
    {
     "name": "stdout",
     "output_type": "stream",
     "text": [
      "Set parameter Username\n",
      "Academic license - for non-commercial use only - expires 2024-10-19\n"
     ]
    }
   ],
   "source": [
    "mod = gp.Model()\n",
    "x = mod.addMVar((N,N),vtype='B')\n",
    "u = mod.addMVar(N)"
   ]
  },
  {
   "cell_type": "code",
   "execution_count": 5,
   "metadata": {
    "id": "I9cL63PP5QOW"
   },
   "outputs": [],
   "source": [
    "mod.setObjective(gp.quicksum(x[i,j]*distMat[i,j] for i in range(N) for j in range(N)))"
   ]
  },
  {
   "cell_type": "code",
   "execution_count": 6,
   "metadata": {
    "id": "p367PlOlUD-w"
   },
   "outputs": [],
   "source": [
    "\n",
    "# leave each city once\n",
    "leave = mod.addConstrs((gp.quicksum(x[i,j] for i in range(N))==1) for j in range(N))\n",
    "# enter each city once\n",
    "enter = mod.addConstrs((gp.quicksum(x[i,j] for j in range(N))==1) for i in range(N))\n",
    "# u constraints\n",
    "ucons = mod.addConstrs((u[i] - u[j] + N*x[i,j] <= (N-1)) for i in range(1,N) for j in range(1,N) if i != j)"
   ]
  },
  {
   "cell_type": "code",
   "execution_count": 7,
   "metadata": {
    "id": "fLMgz3tNUD-w"
   },
   "outputs": [
    {
     "data": {
      "text/plain": [
       "12"
      ]
     },
     "execution_count": 7,
     "metadata": {},
     "output_type": "execute_result"
    }
   ],
   "source": [
    "len(ucons)"
   ]
  },
  {
   "cell_type": "code",
   "execution_count": 8,
   "metadata": {
    "id": "1y022ScB0k6A"
   },
   "outputs": [
    {
     "data": {
      "text/plain": [
       "12"
      ]
     },
     "execution_count": 8,
     "metadata": {},
     "output_type": "execute_result"
    }
   ],
   "source": [
    "(N-1)**2 - (N-1)"
   ]
  },
  {
   "cell_type": "code",
   "execution_count": 9,
   "metadata": {
    "id": "ywhxoxuGUD-x"
   },
   "outputs": [],
   "source": [
    "mod.Params.OutputFlag = 0 # tell gurobi to shut up!!\n",
    "mod.optimize()"
   ]
  },
  {
   "cell_type": "code",
   "execution_count": 10,
   "metadata": {
    "id": "RolF6acqUD-x"
   },
   "outputs": [
    {
     "data": {
      "text/plain": [
       "668.0"
      ]
     },
     "execution_count": 10,
     "metadata": {},
     "output_type": "execute_result"
    }
   ],
   "source": [
    "mod.objVal"
   ]
  },
  {
   "cell_type": "code",
   "execution_count": 11,
   "metadata": {
    "id": "IyWnxg0_UD-y"
   },
   "outputs": [
    {
     "name": "stdout",
     "output_type": "stream",
     "text": [
      "Start in city 0.\n",
      "Then go to city 2, traveling 217.0 miles along the way.\n",
      "Then go to city 3, traveling 113.0 miles along the way.\n",
      "Then go to city 1, traveling 201.0 miles along the way.\n",
      "Then go to city 4, traveling 79.0 miles along the way.\n",
      "Then go to city 0, traveling 58.0 miles along the way.\n",
      "For a total of 668.0 miles.\n"
     ]
    }
   ],
   "source": [
    "where = 0\n",
    "miles_traveled = 0\n",
    "print('Start in city 0.')\n",
    "for city in range(N):\n",
    "    where_new = np.where(x.x[where,:])[0][0]\n",
    "    dist = distMat[where,where_new]\n",
    "    miles_traveled += dist\n",
    "    print('Then go to city '+str(where_new)+', traveling '+str(dist)+' miles along the way.')\n",
    "    where = where_new\n",
    "print('For a total of '+str(miles_traveled)+' miles.')"
   ]
  },
  {
   "cell_type": "code",
   "execution_count": 12,
   "metadata": {
    "id": "caPHIW50UD-z"
   },
   "outputs": [],
   "source": [
    "# this path may not be unique, there are other paths that are optimal\n",
    "# but they'll all have the same total miles traveled!\n",
    "# for example 0 -> 2 -> 3 -> 1 -> 4 -> 0\n",
    "# also takes 668 miles!"
   ]
  },
  {
   "cell_type": "code",
   "execution_count": 13,
   "metadata": {
    "id": "KyDkr4zdUD-z"
   },
   "outputs": [
    {
     "name": "stdout",
     "output_type": "stream",
     "text": [
      "668.0\n"
     ]
    }
   ],
   "source": [
    "seq = [0, 2, 3, 1, 4, 0]\n",
    "miles_traveled2 = 0\n",
    "for loc in range(N):\n",
    "    where = seq[loc]\n",
    "    where_new = seq[loc+1]\n",
    "    dist = distMat[where,where_new]\n",
    "    miles_traveled2 += dist\n",
    "print(miles_traveled2)"
   ]
  },
  {
   "cell_type": "code",
   "execution_count": 14,
   "metadata": {
    "id": "zJZ1dJTWUD-z"
   },
   "outputs": [],
   "source": [
    "# I have no idea how many other paths are optimal..."
   ]
  }
 ],
 "metadata": {
  "colab": {
   "provenance": []
  },
  "kernelspec": {
   "display_name": "Python 3 (ipykernel)",
   "language": "python",
   "name": "python3"
  },
  "language_info": {
   "codemirror_mode": {
    "name": "ipython",
    "version": 3
   },
   "file_extension": ".py",
   "mimetype": "text/x-python",
   "name": "python",
   "nbconvert_exporter": "python",
   "pygments_lexer": "ipython3",
   "version": "3.11.5"
  }
 },
 "nbformat": 4,
 "nbformat_minor": 1
}
